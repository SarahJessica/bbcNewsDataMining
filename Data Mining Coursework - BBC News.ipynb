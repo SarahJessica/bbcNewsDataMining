{
 "cells": [
  {
   "cell_type": "markdown",
   "metadata": {},
   "source": [
    "# Data Mining on BBC News Topics\n",
    "\n",
    "This project is coursework for the Data Mining module, which is part of the MSc Software Engineering and Internet Architecture programme at The University of Bradford.\n",
    "\n",
    "## Introduction\n",
    "\n",
    "The BBC states that \"impartiality lies at the heart of public service and is the core of [our] commitment to... audiences\" (BBC 2010). The first of the BBC's six values makes it imperative: \"Trust is the foundation of the BBC; we are independent, impartial and honest\" (BBC 2018). The BBC is committed to provide impartial content, not only in terms of ethics, but it is also stipulated in the Royal Charter, which is \"is the constitutional basis for the BBC... [that] sets out the public purposes of the BBC [and] guarantees its independence\" (BBC Trust 2017). The Royal Charter mandates that the BBC must treat particularly controversial subjects in the news with due impartiality (BBC 2010). The BBC's Editorial Guidelines go futher than that, and strive for \"due impartiality\" across all news topics (BBC 2010).\n",
    "\n",
    "The BBC has strong reasons for monitoring the impartiality, or lack thereof, in its news output, especially as it has often been criticized for not living up to this core obligation. One very public criticism of BBC News impartiality standards was made on 16<sup>th</sup> February 2017 when Donald Trump, after asking a BBC reporter where he was from, disparagingly called the BBC \"another beauty\" (BBC News 2017a). When the reporter quoted part of the BBC values statement in response, Trump dismissed this counter with \"yeah, sure... Just like CNN right?\" (BBC News 2017a). Later that same month the White House banned BBC News from attending an imformal press briefing, incidentally CNN was also banned along with the New York Times (BBC News 2017b). Although he has never said this directly (to my knowledge) it strongly implies that US President Donald Trump does not believe that the BBC is impartial towards him. Therefore I decided that Donald Trump would be an interesting topic for investigation. \n",
    "\n",
    "BBC News is open about the fact that it finds impartiality about Climate Change difficult (Warburton et al. 2018). The BBC now accepts that disscenting voices on Climate Change must have the scientific basic to support them, otherwise the subject can suffer from 'false balance' or 'false equivalence' where pitting a scientist against a skeptic gives the audience a false impression of the argument (Warburton et al. 2018). The requirement of giving \"due weight\" has now been added to the editorial guidelines in order to avoid giving the an impression that skeptics have an equal weight of opinion against scientists from the global warming community (Warburton et al. 2018; BBC 2010). The BBC is incombant on presenters being knowledagble enough to challenge those being interviewed, and as a result, BBC News journalists wishing to write about Climate Change are required to attend a specialist training course (Warburton et al. 2018). Since the BBC is going to great pains to show due impartiality in regard to Climate Change, I decided to pick this as my second topic. \n",
    "\n",
    "The subject of determining a measure of impartiality of news stories is a massive problem space and is out of the scope for this coursework. The aim of this coursework is to conduct some preliminary investigations that might give guidance regarding the best and most futile approaches to take in futher research.\n",
    "\n",
    "### Introduction to the Data\n",
    "\n",
    "BBC News, along with other BBC online content, is tagged with metadata managed by an internal team called Linked Data Platform (LDP) and these tags are known as LDP tags. Some LDP tags have special relevance and are called a 'topic tag'. When a news story is tagged with a topic tag, it suggests that that story predominantly belongs to a particular topic, such as a place or person. I am interested in the topics 'Donald Trump' and 'Climate Change'.  \n",
    "\n",
    "The data is all publicly available on the various BBC News websites and could be obtained through the difficult task of crawling BBC News online, finding news stories tagged with 'Climate Change' or 'Donald Trump', then selecting, scraping and storing the relevant text. As a Software Engineer at the BBC, I was able to ask a colleague working in LDP for a favour. He obtained the all the BBC News articles which were tagged with 'Climate Change' or 'Donald Trump'  and were last published between January 2017 and April 2018 for me. He transferred them to me as two large JSON documents, one for each topic. \n",
    "\n",
    "I am using Pandas, which is a Python-based Data Analytics Library for most of this coursework (Pandas 2018). I will be utilizing Pandas dataframes which are a convenient way to read in and work with JSON data and also visualize them in a table. I start by reading in and looking at the data that I have. "
   ]
  },
  {
   "cell_type": "code",
   "execution_count": 1,
   "metadata": {},
   "outputs": [],
   "source": [
    "import pandas as pd\n",
    "\n",
    "allCc = pd.read_json('climate_change_data_subset.json')\n",
    "allTrump = pd.read_json('trump_data_subset.json')"
   ]
  },
  {
   "cell_type": "code",
   "execution_count": 2,
   "metadata": {},
   "outputs": [
    {
     "data": {
      "text/html": [
       "<div>\n",
       "<style scoped>\n",
       "    .dataframe tbody tr th:only-of-type {\n",
       "        vertical-align: middle;\n",
       "    }\n",
       "\n",
       "    .dataframe tbody tr th {\n",
       "        vertical-align: top;\n",
       "    }\n",
       "\n",
       "    .dataframe thead th {\n",
       "        text-align: right;\n",
       "    }\n",
       "</style>\n",
       "<table border=\"1\" class=\"dataframe\">\n",
       "  <thead>\n",
       "    <tr style=\"text-align: right;\">\n",
       "      <th></th>\n",
       "      <th>assetId</th>\n",
       "      <th>assetUri</th>\n",
       "      <th>body</th>\n",
       "      <th>headline</th>\n",
       "      <th>language</th>\n",
       "      <th>lastPublished</th>\n",
       "      <th>summary</th>\n",
       "      <th>title</th>\n",
       "    </tr>\n",
       "  </thead>\n",
       "  <tbody>\n",
       "    <tr>\n",
       "      <th>0</th>\n",
       "      <td>38391034</td>\n",
       "      <td>/news/business-38391034</td>\n",
       "      <td>&lt;body xmlns=\"http://www.bbc.co.uk/asset\" xml:s...</td>\n",
       "      <td>India's double first in climate battle</td>\n",
       "      <td>en-gb</td>\n",
       "      <td>2017-01-08T14:55:00+00:00</td>\n",
       "      <td>India opens two world-leading clean energy pro...</td>\n",
       "      <td>BBC News - India's double first in climate battle</td>\n",
       "    </tr>\n",
       "    <tr>\n",
       "      <th>1</th>\n",
       "      <td>38527710</td>\n",
       "      <td>/ukrainian/news-38527710</td>\n",
       "      <td>&lt;body xmlns=\"http://www.bbc.co.uk/asset\" xml:s...</td>\n",
       "      <td>В Україну з півдня насуваються снігопади</td>\n",
       "      <td>uk</td>\n",
       "      <td>2017-01-06T06:31:56+00:00</td>\n",
       "      <td>Через циклон, який насувається з Чорного моря,...</td>\n",
       "      <td>BBC Україна - В Україну з півдня насуваються с...</td>\n",
       "    </tr>\n",
       "    <tr>\n",
       "      <th>2</th>\n",
       "      <td>38600431</td>\n",
       "      <td>/news/uk-wales-38600431</td>\n",
       "      <td>&lt;body xmlns=\"http://www.bbc.co.uk/asset\" xml:s...</td>\n",
       "      <td>£3m to protect Welsh and Irish coast from clim...</td>\n",
       "      <td>en-gb</td>\n",
       "      <td>2017-01-13T12:48:42+00:00</td>\n",
       "      <td>Coastal tourist sites most affected by climate...</td>\n",
       "      <td>BBC News - £3m to protect Welsh and Irish coas...</td>\n",
       "    </tr>\n",
       "    <tr>\n",
       "      <th>3</th>\n",
       "      <td>38745937</td>\n",
       "      <td>/news/science-environment-38745937</td>\n",
       "      <td>&lt;body xmlns=\"http://www.bbc.co.uk/asset\" xml:s...</td>\n",
       "      <td>Defining a true 'pre-industrial' climate period</td>\n",
       "      <td>en-gb</td>\n",
       "      <td>2017-01-25T23:11:25+00:00</td>\n",
       "      <td>Scientists suggest pushing back a baseline fro...</td>\n",
       "      <td>BBC News - Defining a true 'pre-industrial' cl...</td>\n",
       "    </tr>\n",
       "    <tr>\n",
       "      <th>4</th>\n",
       "      <td>39053678</td>\n",
       "      <td>/news/science-environment-39053678</td>\n",
       "      <td>&lt;body xmlns=\"http://www.bbc.co.uk/asset\" xml:s...</td>\n",
       "      <td>Most wood energy schemes are a 'disaster' for ...</td>\n",
       "      <td>en-gb</td>\n",
       "      <td>2017-04-23T14:02:03+00:00</td>\n",
       "      <td>A new report says that using wood pellets to g...</td>\n",
       "      <td>BBC News - Most wood energy schemes are a 'dis...</td>\n",
       "    </tr>\n",
       "  </tbody>\n",
       "</table>\n",
       "</div>"
      ],
      "text/plain": [
       "    assetId                            assetUri  \\\n",
       "0  38391034             /news/business-38391034   \n",
       "1  38527710            /ukrainian/news-38527710   \n",
       "2  38600431             /news/uk-wales-38600431   \n",
       "3  38745937  /news/science-environment-38745937   \n",
       "4  39053678  /news/science-environment-39053678   \n",
       "\n",
       "                                                body  \\\n",
       "0  <body xmlns=\"http://www.bbc.co.uk/asset\" xml:s...   \n",
       "1  <body xmlns=\"http://www.bbc.co.uk/asset\" xml:s...   \n",
       "2  <body xmlns=\"http://www.bbc.co.uk/asset\" xml:s...   \n",
       "3  <body xmlns=\"http://www.bbc.co.uk/asset\" xml:s...   \n",
       "4  <body xmlns=\"http://www.bbc.co.uk/asset\" xml:s...   \n",
       "\n",
       "                                            headline language  \\\n",
       "0             India's double first in climate battle    en-gb   \n",
       "1           В Україну з півдня насуваються снігопади       uk   \n",
       "2  £3m to protect Welsh and Irish coast from clim...    en-gb   \n",
       "3    Defining a true 'pre-industrial' climate period    en-gb   \n",
       "4  Most wood energy schemes are a 'disaster' for ...    en-gb   \n",
       "\n",
       "               lastPublished  \\\n",
       "0  2017-01-08T14:55:00+00:00   \n",
       "1  2017-01-06T06:31:56+00:00   \n",
       "2  2017-01-13T12:48:42+00:00   \n",
       "3  2017-01-25T23:11:25+00:00   \n",
       "4  2017-04-23T14:02:03+00:00   \n",
       "\n",
       "                                             summary  \\\n",
       "0  India opens two world-leading clean energy pro...   \n",
       "1  Через циклон, який насувається з Чорного моря,...   \n",
       "2  Coastal tourist sites most affected by climate...   \n",
       "3  Scientists suggest pushing back a baseline fro...   \n",
       "4  A new report says that using wood pellets to g...   \n",
       "\n",
       "                                               title  \n",
       "0  BBC News - India's double first in climate battle  \n",
       "1  BBC Україна - В Україну з півдня насуваються с...  \n",
       "2  BBC News - £3m to protect Welsh and Irish coas...  \n",
       "3  BBC News - Defining a true 'pre-industrial' cl...  \n",
       "4  BBC News - Most wood energy schemes are a 'dis...  "
      ]
     },
     "execution_count": 2,
     "metadata": {},
     "output_type": "execute_result"
    }
   ],
   "source": [
    "allCc.head()"
   ]
  },
  {
   "cell_type": "code",
   "execution_count": 3,
   "metadata": {},
   "outputs": [
    {
     "data": {
      "text/html": [
       "<div>\n",
       "<style scoped>\n",
       "    .dataframe tbody tr th:only-of-type {\n",
       "        vertical-align: middle;\n",
       "    }\n",
       "\n",
       "    .dataframe tbody tr th {\n",
       "        vertical-align: top;\n",
       "    }\n",
       "\n",
       "    .dataframe thead th {\n",
       "        text-align: right;\n",
       "    }\n",
       "</style>\n",
       "<table border=\"1\" class=\"dataframe\">\n",
       "  <thead>\n",
       "    <tr style=\"text-align: right;\">\n",
       "      <th></th>\n",
       "      <th>assetId</th>\n",
       "      <th>assetUri</th>\n",
       "      <th>body</th>\n",
       "      <th>headline</th>\n",
       "      <th>language</th>\n",
       "      <th>lastPublished</th>\n",
       "      <th>summary</th>\n",
       "      <th>title</th>\n",
       "    </tr>\n",
       "  </thead>\n",
       "  <tbody>\n",
       "    <tr>\n",
       "      <th>0</th>\n",
       "      <td>43597394</td>\n",
       "      <td>/portuguese/internacional-43597394</td>\n",
       "      <td>&lt;body xmlns=\"http://www.bbc.co.uk/asset\" xml:s...</td>\n",
       "      <td>A pouco conhecida história de como os EUA leva...</td>\n",
       "      <td>pt-BR</td>\n",
       "      <td>2018-04-01T17:43:20+00:00</td>\n",
       "      <td>O governo americano foi o primeiro a violar o ...</td>\n",
       "      <td>BBC Brasil - A pouco conhecida história de com...</td>\n",
       "    </tr>\n",
       "    <tr>\n",
       "      <th>1</th>\n",
       "      <td>43607394</td>\n",
       "      <td>/portuguese/internacional-43607394</td>\n",
       "      <td>&lt;body xmlns=\"http://www.bbc.co.uk/asset\" xml:s...</td>\n",
       "      <td>O ativista que criou uma identidade falsa para...</td>\n",
       "      <td>pt-BR</td>\n",
       "      <td>2018-04-02T07:34:34+00:00</td>\n",
       "      <td>Um ativista antirracismo passou um ano infiltr...</td>\n",
       "      <td>BBC Brasil - O ativista que criou uma identida...</td>\n",
       "    </tr>\n",
       "    <tr>\n",
       "      <th>2</th>\n",
       "      <td>43606088</td>\n",
       "      <td>/news/world-us-canada-43606088</td>\n",
       "      <td>&lt;body xmlns=\"http://www.bbc.co.uk/asset\" xml:s...</td>\n",
       "      <td>Donald Trump steps up attacks on Amazon</td>\n",
       "      <td>en-gb</td>\n",
       "      <td>2018-03-31T21:23:32+00:00</td>\n",
       "      <td>The president accuses the online retail giant ...</td>\n",
       "      <td>BBC News - Donald Trump steps up attacks on Am...</td>\n",
       "    </tr>\n",
       "    <tr>\n",
       "      <th>3</th>\n",
       "      <td>43601557</td>\n",
       "      <td>/news/world-us-canada-43601557</td>\n",
       "      <td>&lt;body xmlns=\"http://www.bbc.co.uk/asset\" xml:s...</td>\n",
       "      <td>US may tie social media to visa applications</td>\n",
       "      <td>en-gb</td>\n",
       "      <td>2018-03-31T12:55:24+00:00</td>\n",
       "      <td>A state department proposal could require visa...</td>\n",
       "      <td>BBC News - US may tie social media to visa app...</td>\n",
       "    </tr>\n",
       "    <tr>\n",
       "      <th>4</th>\n",
       "      <td>43578462</td>\n",
       "      <td>/news/world-us-canada-43578462</td>\n",
       "      <td>&lt;body xmlns=\"http://www.bbc.co.uk/asset\" xml:s...</td>\n",
       "      <td>Is Trump ready for talks with North Korea?</td>\n",
       "      <td>en-gb</td>\n",
       "      <td>2018-03-30T21:20:28+00:00</td>\n",
       "      <td>What preparations is the White House making fo...</td>\n",
       "      <td>BBC News - Is Trump ready for talks with North...</td>\n",
       "    </tr>\n",
       "  </tbody>\n",
       "</table>\n",
       "</div>"
      ],
      "text/plain": [
       "    assetId                            assetUri  \\\n",
       "0  43597394  /portuguese/internacional-43597394   \n",
       "1  43607394  /portuguese/internacional-43607394   \n",
       "2  43606088      /news/world-us-canada-43606088   \n",
       "3  43601557      /news/world-us-canada-43601557   \n",
       "4  43578462      /news/world-us-canada-43578462   \n",
       "\n",
       "                                                body  \\\n",
       "0  <body xmlns=\"http://www.bbc.co.uk/asset\" xml:s...   \n",
       "1  <body xmlns=\"http://www.bbc.co.uk/asset\" xml:s...   \n",
       "2  <body xmlns=\"http://www.bbc.co.uk/asset\" xml:s...   \n",
       "3  <body xmlns=\"http://www.bbc.co.uk/asset\" xml:s...   \n",
       "4  <body xmlns=\"http://www.bbc.co.uk/asset\" xml:s...   \n",
       "\n",
       "                                            headline language  \\\n",
       "0  A pouco conhecida história de como os EUA leva...    pt-BR   \n",
       "1  O ativista que criou uma identidade falsa para...    pt-BR   \n",
       "2            Donald Trump steps up attacks on Amazon    en-gb   \n",
       "3       US may tie social media to visa applications    en-gb   \n",
       "4         Is Trump ready for talks with North Korea?    en-gb   \n",
       "\n",
       "               lastPublished  \\\n",
       "0  2018-04-01T17:43:20+00:00   \n",
       "1  2018-04-02T07:34:34+00:00   \n",
       "2  2018-03-31T21:23:32+00:00   \n",
       "3  2018-03-31T12:55:24+00:00   \n",
       "4  2018-03-30T21:20:28+00:00   \n",
       "\n",
       "                                             summary  \\\n",
       "0  O governo americano foi o primeiro a violar o ...   \n",
       "1  Um ativista antirracismo passou um ano infiltr...   \n",
       "2  The president accuses the online retail giant ...   \n",
       "3  A state department proposal could require visa...   \n",
       "4  What preparations is the White House making fo...   \n",
       "\n",
       "                                               title  \n",
       "0  BBC Brasil - A pouco conhecida história de com...  \n",
       "1  BBC Brasil - O ativista que criou uma identida...  \n",
       "2  BBC News - Donald Trump steps up attacks on Am...  \n",
       "3  BBC News - US may tie social media to visa app...  \n",
       "4  BBC News - Is Trump ready for talks with North...  "
      ]
     },
     "execution_count": 3,
     "metadata": {},
     "output_type": "execute_result"
    }
   ],
   "source": [
    "allTrump.head()"
   ]
  },
  {
   "cell_type": "markdown",
   "metadata": {},
   "source": [
    "## Data Cleaning\n",
    "\n",
    "Immediately, by looking at the `head()` which shows me the first five lines in the dataframe, I notice two things. \n",
    "1. That the `lastPublished` dates run in the opposite orders. \n",
    "2. I have BBC News articles from across all the BBC News websites regardless of language. \n",
    "\n",
    "I am only interested in UK Domestic news in English so I address this first. I know from previously working on BBC News that these are all available in the `assetURI` path beginning with `/news`. I start by disregarding those that are not UK Domestic English language news.\n"
   ]
  },
  {
   "cell_type": "code",
   "execution_count": 4,
   "metadata": {},
   "outputs": [
    {
     "name": "stdout",
     "output_type": "stream",
     "text": [
      "ALL LANGUAGES \n",
      " Climate Change: 1808\n",
      " Trump: 5135\n"
     ]
    }
   ],
   "source": [
    "print('ALL LANGUAGES \\n Climate Change: {0}\\n Trump: {1}'.format(len(allCc), len(allTrump)))"
   ]
  },
  {
   "cell_type": "code",
   "execution_count": 5,
   "metadata": {},
   "outputs": [],
   "source": [
    "cc = allCc[allCc.assetUri.str.startswith('/news')]\n",
    "trump = allTrump[allTrump.assetUri.str.startswith('/news')]"
   ]
  },
  {
   "cell_type": "code",
   "execution_count": 6,
   "metadata": {},
   "outputs": [
    {
     "name": "stdout",
     "output_type": "stream",
     "text": [
      "ENGLISH UK DOMESTIC \n",
      " Climate Change: 664\n",
      " Trump: 3254\n"
     ]
    }
   ],
   "source": [
    "print('ENGLISH UK DOMESTIC \\n Climate Change: {0}\\n Trump: {1}'.format(len(cc), len(trump)))"
   ]
  },
  {
   "cell_type": "markdown",
   "metadata": {},
   "source": [
    "I can immediately see that I now have far fewer articles for each topic. We can conduct a sanity check."
   ]
  },
  {
   "cell_type": "code",
   "execution_count": 7,
   "metadata": {},
   "outputs": [
    {
     "data": {
      "text/plain": [
       "0"
      ]
     },
     "execution_count": 7,
     "metadata": {},
     "output_type": "execute_result"
    }
   ],
   "source": [
    "sum(trump['language'] != 'en-gb')"
   ]
  },
  {
   "cell_type": "code",
   "execution_count": 8,
   "metadata": {},
   "outputs": [
    {
     "data": {
      "text/plain": [
       "0"
      ]
     },
     "execution_count": 8,
     "metadata": {},
     "output_type": "execute_result"
    }
   ],
   "source": [
    "sum(cc['language'] != 'en-gb')"
   ]
  },
  {
   "cell_type": "markdown",
   "metadata": {},
   "source": [
    "I will find out more information about the data I have remaining by printing the `.info()`."
   ]
  },
  {
   "cell_type": "code",
   "execution_count": 9,
   "metadata": {},
   "outputs": [
    {
     "name": "stdout",
     "output_type": "stream",
     "text": [
      "<class 'pandas.core.frame.DataFrame'>\n",
      "Int64Index: 3254 entries, 2 to 5133\n",
      "Data columns (total 8 columns):\n",
      "assetId          3254 non-null int64\n",
      "assetUri         3254 non-null object\n",
      "body             3250 non-null object\n",
      "headline         3254 non-null object\n",
      "language         3254 non-null object\n",
      "lastPublished    3254 non-null object\n",
      "summary          3254 non-null object\n",
      "title            3254 non-null object\n",
      "dtypes: int64(1), object(7)\n",
      "memory usage: 228.8+ KB\n"
     ]
    }
   ],
   "source": [
    "trump.info()"
   ]
  },
  {
   "cell_type": "code",
   "execution_count": 10,
   "metadata": {},
   "outputs": [
    {
     "name": "stdout",
     "output_type": "stream",
     "text": [
      "<class 'pandas.core.frame.DataFrame'>\n",
      "Int64Index: 664 entries, 0 to 1805\n",
      "Data columns (total 8 columns):\n",
      "assetId          664 non-null int64\n",
      "assetUri         664 non-null object\n",
      "body             662 non-null object\n",
      "headline         664 non-null object\n",
      "language         664 non-null object\n",
      "lastPublished    664 non-null object\n",
      "summary          664 non-null object\n",
      "title            664 non-null object\n",
      "dtypes: int64(1), object(7)\n",
      "memory usage: 46.7+ KB\n"
     ]
    }
   ],
   "source": [
    "cc.info()"
   ]
  },
  {
   "cell_type": "markdown",
   "metadata": {},
   "source": [
    "I notice that four of the Donald Trump bodies are missing and also two of the Climate Change bodies. It is the main body of the news story that I am interested in, therefore these can be disregarded and removed. Keeping them would likely result in strange behaviour or even errors in data experiments later. "
   ]
  },
  {
   "cell_type": "code",
   "execution_count": 11,
   "metadata": {},
   "outputs": [],
   "source": [
    "cc = cc.dropna(axis=0, how='any')\n",
    "trump = trump.dropna(axis=0, how='any')"
   ]
  },
  {
   "cell_type": "markdown",
   "metadata": {},
   "source": [
    "I am also not interested in keeping the `assetId` or the `language` (which by now is all `en-gb` anyway)."
   ]
  },
  {
   "cell_type": "code",
   "execution_count": 12,
   "metadata": {},
   "outputs": [],
   "source": [
    "cc = cc.drop(columns=['assetId','language'])\n",
    "trump = trump.drop(columns=['assetId','language'])"
   ]
  },
  {
   "cell_type": "markdown",
   "metadata": {},
   "source": [
    "The body of the article is not in plain text, it is stored in XML. The XML tags need to be removed in order to work with the text. I started by attempting to use open source libraries like Beautiful Soup, however, they are mainly for HTML tags. In addition, BBC News uses its own internal variant of XML called CandyXML and is therefore not entirely standard. I found it necessary to write my own data extraction method which removes the extraneous tags and other strange attributes I found by looking through the data. Since I am working with Pandas dataframes, I extracted the clean text straight into a new column. "
   ]
  },
  {
   "cell_type": "code",
   "execution_count": 13,
   "metadata": {},
   "outputs": [
    {
     "data": {
      "text/html": [
       "<div>\n",
       "<style scoped>\n",
       "    .dataframe tbody tr th:only-of-type {\n",
       "        vertical-align: middle;\n",
       "    }\n",
       "\n",
       "    .dataframe tbody tr th {\n",
       "        vertical-align: top;\n",
       "    }\n",
       "\n",
       "    .dataframe thead th {\n",
       "        text-align: right;\n",
       "    }\n",
       "</style>\n",
       "<table border=\"1\" class=\"dataframe\">\n",
       "  <thead>\n",
       "    <tr style=\"text-align: right;\">\n",
       "      <th></th>\n",
       "      <th>assetUri</th>\n",
       "      <th>body</th>\n",
       "      <th>headline</th>\n",
       "      <th>lastPublished</th>\n",
       "      <th>summary</th>\n",
       "      <th>title</th>\n",
       "      <th>cleanBody</th>\n",
       "    </tr>\n",
       "  </thead>\n",
       "  <tbody>\n",
       "    <tr>\n",
       "      <th>2</th>\n",
       "      <td>/news/world-us-canada-43606088</td>\n",
       "      <td>&lt;body xmlns=\"http://www.bbc.co.uk/asset\" xml:s...</td>\n",
       "      <td>Donald Trump steps up attacks on Amazon</td>\n",
       "      <td>2018-03-31T21:23:32+00:00</td>\n",
       "      <td>The president accuses the online retail giant ...</td>\n",
       "      <td>BBC News - Donald Trump steps up attacks on Am...</td>\n",
       "      <td>President Donald Trump has stepped up his atta...</td>\n",
       "    </tr>\n",
       "    <tr>\n",
       "      <th>3</th>\n",
       "      <td>/news/world-us-canada-43601557</td>\n",
       "      <td>&lt;body xmlns=\"http://www.bbc.co.uk/asset\" xml:s...</td>\n",
       "      <td>US may tie social media to visa applications</td>\n",
       "      <td>2018-03-31T12:55:24+00:00</td>\n",
       "      <td>A state department proposal could require visa...</td>\n",
       "      <td>BBC News - US may tie social media to visa app...</td>\n",
       "      <td>The Trump administration has said it wants to ...</td>\n",
       "    </tr>\n",
       "    <tr>\n",
       "      <th>4</th>\n",
       "      <td>/news/world-us-canada-43578462</td>\n",
       "      <td>&lt;body xmlns=\"http://www.bbc.co.uk/asset\" xml:s...</td>\n",
       "      <td>Is Trump ready for talks with North Korea?</td>\n",
       "      <td>2018-03-30T21:20:28+00:00</td>\n",
       "      <td>What preparations is the White House making fo...</td>\n",
       "      <td>BBC News - Is Trump ready for talks with North...</td>\n",
       "      <td>Never before has a US president prepared for a...</td>\n",
       "    </tr>\n",
       "    <tr>\n",
       "      <th>6</th>\n",
       "      <td>/news/world-us-canada-43591904</td>\n",
       "      <td>&lt;body xmlns=\"http://www.bbc.co.uk/asset\" xml:s...</td>\n",
       "      <td>Trump: Billions spent protecting other countri...</td>\n",
       "      <td>2018-03-29T19:31:50+00:00</td>\n",
       "      <td>Mr Trump says securing the Korean border comes...</td>\n",
       "      <td>BBC News - Trump: Billions spent protecting ot...</td>\n",
       "      <td>The US president says protecting the Korean bo...</td>\n",
       "    </tr>\n",
       "    <tr>\n",
       "      <th>7</th>\n",
       "      <td>/news/world-us-canada-43577444</td>\n",
       "      <td>&lt;body xmlns=\"http://www.bbc.co.uk/asset\" xml:s...</td>\n",
       "      <td>Trump loses bid to dismiss hotel lawsuit</td>\n",
       "      <td>2018-03-29T02:13:35+00:00</td>\n",
       "      <td>A judge allows a case to determine if the pres...</td>\n",
       "      <td>BBC News - Trump loses bid to dismiss hotel la...</td>\n",
       "      <td>Donald Trump's attempt to dismiss a lawsuit al...</td>\n",
       "    </tr>\n",
       "  </tbody>\n",
       "</table>\n",
       "</div>"
      ],
      "text/plain": [
       "                         assetUri  \\\n",
       "2  /news/world-us-canada-43606088   \n",
       "3  /news/world-us-canada-43601557   \n",
       "4  /news/world-us-canada-43578462   \n",
       "6  /news/world-us-canada-43591904   \n",
       "7  /news/world-us-canada-43577444   \n",
       "\n",
       "                                                body  \\\n",
       "2  <body xmlns=\"http://www.bbc.co.uk/asset\" xml:s...   \n",
       "3  <body xmlns=\"http://www.bbc.co.uk/asset\" xml:s...   \n",
       "4  <body xmlns=\"http://www.bbc.co.uk/asset\" xml:s...   \n",
       "6  <body xmlns=\"http://www.bbc.co.uk/asset\" xml:s...   \n",
       "7  <body xmlns=\"http://www.bbc.co.uk/asset\" xml:s...   \n",
       "\n",
       "                                            headline  \\\n",
       "2            Donald Trump steps up attacks on Amazon   \n",
       "3       US may tie social media to visa applications   \n",
       "4         Is Trump ready for talks with North Korea?   \n",
       "6  Trump: Billions spent protecting other countri...   \n",
       "7           Trump loses bid to dismiss hotel lawsuit   \n",
       "\n",
       "               lastPublished  \\\n",
       "2  2018-03-31T21:23:32+00:00   \n",
       "3  2018-03-31T12:55:24+00:00   \n",
       "4  2018-03-30T21:20:28+00:00   \n",
       "6  2018-03-29T19:31:50+00:00   \n",
       "7  2018-03-29T02:13:35+00:00   \n",
       "\n",
       "                                             summary  \\\n",
       "2  The president accuses the online retail giant ...   \n",
       "3  A state department proposal could require visa...   \n",
       "4  What preparations is the White House making fo...   \n",
       "6  Mr Trump says securing the Korean border comes...   \n",
       "7  A judge allows a case to determine if the pres...   \n",
       "\n",
       "                                               title  \\\n",
       "2  BBC News - Donald Trump steps up attacks on Am...   \n",
       "3  BBC News - US may tie social media to visa app...   \n",
       "4  BBC News - Is Trump ready for talks with North...   \n",
       "6  BBC News - Trump: Billions spent protecting ot...   \n",
       "7  BBC News - Trump loses bid to dismiss hotel la...   \n",
       "\n",
       "                                           cleanBody  \n",
       "2  President Donald Trump has stepped up his atta...  \n",
       "3  The Trump administration has said it wants to ...  \n",
       "4  Never before has a US president prepared for a...  \n",
       "6  The US president says protecting the Korean bo...  \n",
       "7  Donald Trump's attempt to dismiss a lawsuit al...  "
      ]
     },
     "execution_count": 13,
     "metadata": {},
     "output_type": "execute_result"
    }
   ],
   "source": [
    "import re\n",
    "\n",
    "def extract_text_into_new_column(df, column_name, new_column_name):\n",
    "    temp_column = []\n",
    "    for i in range(len(df)):\n",
    "        text = df[column_name].iloc[i]\n",
    "        tags = [\"assetId\", \"assetTypeCode\", \"categoryId\", \"categoryName\", \n",
    "                \"crosshead\", \"changeQueueId\", \"embed\", \"hasShortForm\", \"language\", \n",
    "                \"provider\", \"publicationStatus\", \"workerCallingCard\"]\n",
    "        for tag in tags:\n",
    "            tag_regex = '<'+ re.escape(tag) + '.*?' + re.escape(tag) + '>'\n",
    "            text = re.sub(tag_regex, '', text)\n",
    "        text = re.sub('<.*?>', '', text)\n",
    "        timestamp_regex = '\\d{4}-\\d{2}-\\d{2}T\\d{2}:\\d{2}:\\d{2}\\+\\d{2}:\\d{2}'\n",
    "        text = re.sub(timestamp_regex, '', text)\n",
    "        text = re.sub('&amp;', '&', text)\n",
    "        text = re.sub('\\.\\.\\.', ' ', text)\n",
    "        whitespace_after_full_stop_regex = '(?<=[a-z])\\.(?=[A-Z])'\n",
    "        text = re.sub(whitespace_after_full_stop_regex, '. ', text)\n",
    "        whitespace_after_question_mark_regex = '(?<=[a-z])\\?(?=[A-Z])'\n",
    "        text = re.sub(whitespace_after_question_mark_regex, '. ', text)\n",
    "        temp_column.append(text)\n",
    "    df[new_column_name] = temp_column\n",
    "\n",
    "extract_text_into_new_column(cc, 'body', 'cleanBody')\n",
    "extract_text_into_new_column(trump, 'body', 'cleanBody')\n",
    "trump.head()"
   ]
  },
  {
   "cell_type": "markdown",
   "metadata": {},
   "source": [
    "Here I am telling Pandas that the `lastPublished` column contains `datetime` objects."
   ]
  },
  {
   "cell_type": "code",
   "execution_count": 14,
   "metadata": {},
   "outputs": [],
   "source": [
    "trump.lastPublished = pd.to_datetime(trump.lastPublished)\n",
    "cc.lastPublished = pd.to_datetime(cc.lastPublished)"
   ]
  },
  {
   "cell_type": "markdown",
   "metadata": {},
   "source": [
    "Now much of the data has been removed, the indexes need to be reset. I reset the indexes because, as shown in the dataframe above, the indexes of deleted rows have been removed leaving gaps in the index. The data will be easier to work with once it has been reindexed.\n",
    "\n",
    "The trump data, as pointed out earlier, appears to needs to be 'reversed' because the dates run in the opposite order to Climate Change. Both dataframes will be sorted in date order as they are reindexed because this is likely to make working with the datasets easier later. "
   ]
  },
  {
   "cell_type": "code",
   "execution_count": 15,
   "metadata": {},
   "outputs": [
    {
     "data": {
      "text/html": [
       "<div>\n",
       "<style scoped>\n",
       "    .dataframe tbody tr th:only-of-type {\n",
       "        vertical-align: middle;\n",
       "    }\n",
       "\n",
       "    .dataframe tbody tr th {\n",
       "        vertical-align: top;\n",
       "    }\n",
       "\n",
       "    .dataframe thead th {\n",
       "        text-align: right;\n",
       "    }\n",
       "</style>\n",
       "<table border=\"1\" class=\"dataframe\">\n",
       "  <thead>\n",
       "    <tr style=\"text-align: right;\">\n",
       "      <th></th>\n",
       "      <th>assetUri</th>\n",
       "      <th>body</th>\n",
       "      <th>headline</th>\n",
       "      <th>lastPublished</th>\n",
       "      <th>summary</th>\n",
       "      <th>title</th>\n",
       "      <th>cleanBody</th>\n",
       "    </tr>\n",
       "  </thead>\n",
       "  <tbody>\n",
       "    <tr>\n",
       "      <th>0</th>\n",
       "      <td>/news/business-38391034</td>\n",
       "      <td>&lt;body xmlns=\"http://www.bbc.co.uk/asset\" xml:s...</td>\n",
       "      <td>India's double first in climate battle</td>\n",
       "      <td>2017-01-08 14:55:00</td>\n",
       "      <td>India opens two world-leading clean energy pro...</td>\n",
       "      <td>BBC News - India's double first in climate battle</td>\n",
       "      <td>Two world-leading clean energy projects have o...</td>\n",
       "    </tr>\n",
       "    <tr>\n",
       "      <th>2</th>\n",
       "      <td>/news/uk-wales-38600431</td>\n",
       "      <td>&lt;body xmlns=\"http://www.bbc.co.uk/asset\" xml:s...</td>\n",
       "      <td>£3m to protect Welsh and Irish coast from clim...</td>\n",
       "      <td>2017-01-13 12:48:42</td>\n",
       "      <td>Coastal tourist sites most affected by climate...</td>\n",
       "      <td>BBC News - £3m to protect Welsh and Irish coas...</td>\n",
       "      <td>Coastal tourist sites most affected by climate...</td>\n",
       "    </tr>\n",
       "    <tr>\n",
       "      <th>3</th>\n",
       "      <td>/news/science-environment-38745937</td>\n",
       "      <td>&lt;body xmlns=\"http://www.bbc.co.uk/asset\" xml:s...</td>\n",
       "      <td>Defining a true 'pre-industrial' climate period</td>\n",
       "      <td>2017-01-25 23:11:25</td>\n",
       "      <td>Scientists suggest pushing back a baseline fro...</td>\n",
       "      <td>BBC News - Defining a true 'pre-industrial' cl...</td>\n",
       "      <td>Scientists are seeking to define a new baselin...</td>\n",
       "    </tr>\n",
       "    <tr>\n",
       "      <th>4</th>\n",
       "      <td>/news/science-environment-39053678</td>\n",
       "      <td>&lt;body xmlns=\"http://www.bbc.co.uk/asset\" xml:s...</td>\n",
       "      <td>Most wood energy schemes are a 'disaster' for ...</td>\n",
       "      <td>2017-04-23 14:02:03</td>\n",
       "      <td>A new report says that using wood pellets to g...</td>\n",
       "      <td>BBC News - Most wood energy schemes are a 'dis...</td>\n",
       "      <td>Using wood pellets to generate low-carbon elec...</td>\n",
       "    </tr>\n",
       "    <tr>\n",
       "      <th>8</th>\n",
       "      <td>/news/uk-39679584</td>\n",
       "      <td>&lt;body xmlns=\"http://www.bbc.co.uk/asset\" xml:s...</td>\n",
       "      <td>March for Science: Thousands in London join gl...</td>\n",
       "      <td>2017-05-01 20:19:03</td>\n",
       "      <td>Organisers say the growth of fake news makes i...</td>\n",
       "      <td>BBC News - March for Science: Thousands in Lon...</td>\n",
       "      <td>Thousands of people have gathered in London to...</td>\n",
       "    </tr>\n",
       "  </tbody>\n",
       "</table>\n",
       "</div>"
      ],
      "text/plain": [
       "                             assetUri  \\\n",
       "0             /news/business-38391034   \n",
       "2             /news/uk-wales-38600431   \n",
       "3  /news/science-environment-38745937   \n",
       "4  /news/science-environment-39053678   \n",
       "8                   /news/uk-39679584   \n",
       "\n",
       "                                                body  \\\n",
       "0  <body xmlns=\"http://www.bbc.co.uk/asset\" xml:s...   \n",
       "2  <body xmlns=\"http://www.bbc.co.uk/asset\" xml:s...   \n",
       "3  <body xmlns=\"http://www.bbc.co.uk/asset\" xml:s...   \n",
       "4  <body xmlns=\"http://www.bbc.co.uk/asset\" xml:s...   \n",
       "8  <body xmlns=\"http://www.bbc.co.uk/asset\" xml:s...   \n",
       "\n",
       "                                            headline       lastPublished  \\\n",
       "0             India's double first in climate battle 2017-01-08 14:55:00   \n",
       "2  £3m to protect Welsh and Irish coast from clim... 2017-01-13 12:48:42   \n",
       "3    Defining a true 'pre-industrial' climate period 2017-01-25 23:11:25   \n",
       "4  Most wood energy schemes are a 'disaster' for ... 2017-04-23 14:02:03   \n",
       "8  March for Science: Thousands in London join gl... 2017-05-01 20:19:03   \n",
       "\n",
       "                                             summary  \\\n",
       "0  India opens two world-leading clean energy pro...   \n",
       "2  Coastal tourist sites most affected by climate...   \n",
       "3  Scientists suggest pushing back a baseline fro...   \n",
       "4  A new report says that using wood pellets to g...   \n",
       "8  Organisers say the growth of fake news makes i...   \n",
       "\n",
       "                                               title  \\\n",
       "0  BBC News - India's double first in climate battle   \n",
       "2  BBC News - £3m to protect Welsh and Irish coas...   \n",
       "3  BBC News - Defining a true 'pre-industrial' cl...   \n",
       "4  BBC News - Most wood energy schemes are a 'dis...   \n",
       "8  BBC News - March for Science: Thousands in Lon...   \n",
       "\n",
       "                                           cleanBody  \n",
       "0  Two world-leading clean energy projects have o...  \n",
       "2  Coastal tourist sites most affected by climate...  \n",
       "3  Scientists are seeking to define a new baselin...  \n",
       "4  Using wood pellets to generate low-carbon elec...  \n",
       "8  Thousands of people have gathered in London to...  "
      ]
     },
     "execution_count": 15,
     "metadata": {},
     "output_type": "execute_result"
    }
   ],
   "source": [
    "def sort_by_date_and_reindex(df, date_column):\n",
    "    df = df.sort_values(by=[date_column])\n",
    "    df = df.reset_index(drop=True, inplace=True)\n",
    "\n",
    "sort_by_date_and_reindex(cc, 'lastPublished')\n",
    "sort_by_date_and_reindex(trump, 'lastPublished')\n",
    "cc.head()"
   ]
  },
  {
   "cell_type": "markdown",
   "metadata": {},
   "source": [
    "# Text Mining\n",
    "\n",
    "Text is unstructured data, and it is also the easiest form of data that can be created and has resulted in the rapid creation of many large bodies of text data (Aggarwal and Zhai 2012). Resultingly, there is a huge need to design methods and algorithms to efficiently process a broad variety of texts (Aggarwal and Zhai 2012).\n",
    "\n",
    "There are several important characteristics that distinguish text data from other forms of data such that naturally affect the mining techniques which can be employed (Aggarwal and Zhai 2012). Aggarwal and Zhai (2012) stress that the most important characteristic of text data is that it is sparse and high dimensional: \n",
    ">For example, a given corpus may be drawn from a lexicon of about 100,000 words, but a given text document may contain only a few hundred words. Thus, a corpus of text documents can be represented as a sparse term-document matrix of size n × d, when n is the number of documents, and d is the size of the lexicon vocabulary. The (i, j)<sup>th</sup> entry of this matrix is the (normalized) frequency of the j<sup>th</sup> word in the lexicon in document i. The large size and the sparsity of the matrix has immediate implications for a number of data analytical techniques such as dimensionality reduction. In such cases, the methods for reduction should be specifically designed while taking this characteristic of text data into account. The variation in word frequencies and document lengths also lead to a number of issues involving document representation and normalization, which are critical for text mining.\n",
    "\n",
    "This sparce matrix model will be used later in this coursework during as part of the Term Frequency Representation using the 'Bag of Words' model. \n",
    "\n",
    "## Natural Language Processing\n",
    "\n",
    "Natural language processing (NLP) is a component of text mining that performs linguistic analysis, which enables a machine to understand human language (Varone 2016). NLP utilizes a variety of methodologies to decipher ambiguities including automatic summarization, part-of-speech tagging, disambiguation, entity extraction and natural language understanding and recognition (Varone 2016).\n",
    "\n",
    "A variety of these techniques will be employed below so that the data can be represented numerically and displayed visually. \n",
    "\n",
    "I will be an open source framework called Natural Language Toolkit (NLTK) which is platform for building Python programs to work with human language data (NLTK 2017)."
   ]
  },
  {
   "cell_type": "code",
   "execution_count": 16,
   "metadata": {
    "scrolled": false
   },
   "outputs": [
    {
     "name": "stdout",
     "output_type": "stream",
     "text": [
      "[nltk_data] Downloading package punkt to /Users/leives01/nltk_data...\n",
      "[nltk_data]   Package punkt is already up-to-date!\n"
     ]
    },
    {
     "data": {
      "text/plain": [
       "True"
      ]
     },
     "execution_count": 16,
     "metadata": {},
     "output_type": "execute_result"
    }
   ],
   "source": [
    "import nltk\n",
    "nltk.download('punkt')"
   ]
  },
  {
   "cell_type": "markdown",
   "metadata": {},
   "source": [
    "### Tokenizing the Text\n",
    "I start by breaking the `cleanBody` into sentences. I make a matrix which is stored as a list of lists in my Pandas dataframe column."
   ]
  },
  {
   "cell_type": "code",
   "execution_count": 17,
   "metadata": {},
   "outputs": [],
   "source": [
    "from nltk.tokenize import sent_tokenize\n",
    "\n",
    "def make_matrix_of_sentences(df, column):\n",
    "    matrix = []\n",
    "    for i in range(len(df)):\n",
    "        current = df[column].iloc[i]\n",
    "        sent = sent_tokenize(current)\n",
    "        matrix.append(sent)\n",
    "    return matrix\n",
    "\n",
    "ccMatrix = make_matrix_of_sentences(cc, 'cleanBody')\n",
    "trumpMatrix = make_matrix_of_sentences(trump, 'cleanBody')"
   ]
  },
  {
   "cell_type": "markdown",
   "metadata": {},
   "source": [
    "Example of one of my sentences. The clenliness of it also suggests that my earlier data cleaning was successful."
   ]
  },
  {
   "cell_type": "code",
   "execution_count": 18,
   "metadata": {},
   "outputs": [
    {
     "data": {
      "text/plain": [
       "\"Australia's Great Barrier Reef can be saved only if urgent steps are taken to reduce global warming, new research has warned.\""
      ]
     },
     "execution_count": 18,
     "metadata": {},
     "output_type": "execute_result"
    }
   ],
   "source": [
    "ccMatrix[100][0]"
   ]
  },
  {
   "cell_type": "markdown",
   "metadata": {},
   "source": [
    "I next need to tokenize the text, which means removing common stop words such as 'the', 'and', 'a' and 'that' (Kolalapudi 2016a). I set up a variable `stop_words` containing all my stop words."
   ]
  },
  {
   "cell_type": "code",
   "execution_count": 19,
   "metadata": {},
   "outputs": [],
   "source": [
    "# punkt includes stopwords in different languages\n",
    "from nltk.tokenize import word_tokenize\n",
    "from nltk.corpus import stopwords\n",
    "from string import punctuation\n",
    "custom_stop_words = [\"'s\", \"``\", \"''\", \"\\\"\"]\n",
    "stop_words = set(stopwords.words('english') + list(punctuation) + list(custom_stop_words))"
   ]
  },
  {
   "cell_type": "code",
   "execution_count": 20,
   "metadata": {},
   "outputs": [],
   "source": [
    "def tokenize_words(df, column):\n",
    "    words_matrix = []\n",
    "    for i in range (len(df)):\n",
    "        current = df[column].iloc[i]\n",
    "        these_words = [word for word in word_tokenize(current) if word not in stop_words]\n",
    "        these_words\n",
    "        words_matrix.append(these_words)\n",
    "    return words_matrix\n",
    "\n",
    "ccTokens = tokenize_words(cc, 'cleanBody')\n",
    "trumpTokens = tokenize_words(trump, 'cleanBody')"
   ]
  },
  {
   "cell_type": "markdown",
   "metadata": {},
   "source": [
    "Utilizing NLTK methods, I found groups of words that occured together in each article. It is possible to see what words commonly occur together, and then it is possible to determine whether they should be treated as one entitiy, for example, \"Mr Trump\" treated as one entity would extract more meaning than \"Mr\" and \"Trump\". Since that entity has two words, it is called a bigram (Kolalapudi 2016a). Depending on how many words are present, one would call it an n-gram. \n",
    "\n",
    "One of the biggest problems in NLP is how to understand the meaning of a word based on the context in which it occurs. Some words have different meanings based on the context in which they are occurring (Kolalapudi 2016a). Word Sense Disambiguation is a technique to identify the meaning of the word based on the context in which it occurs (Kolalapudi 2016a). \n",
    "\n",
    "I use the methods from NLTK to find the bigrams and trigrams (three-word n-grams) in each article and I order them with the most frequently occurring at the top. "
   ]
  },
  {
   "cell_type": "code",
   "execution_count": 21,
   "metadata": {},
   "outputs": [],
   "source": [
    "from nltk.collocations import *\n",
    "\n",
    "def get_bigrams(tokens_list):\n",
    "    values = []\n",
    "    bigram_measures = nltk.collocations.BigramAssocMeasures()\n",
    "    for i in range(len(tokens_list)):\n",
    "        finder = BigramCollocationFinder.from_words(tokens_list[i])\n",
    "        bigrams = list(finder.ngram_fd.items())\n",
    "        bigrams.sort(key=lambda item: item[-1], reverse=True)\n",
    "        values.append(bigrams)\n",
    "    return values\n",
    "\n",
    "trump_bigrams = get_bigrams(trumpTokens)\n",
    "cc_bigrams = get_bigrams(ccTokens)"
   ]
  },
  {
   "cell_type": "code",
   "execution_count": 22,
   "metadata": {},
   "outputs": [],
   "source": [
    "def get_trigrams(tokens_list):\n",
    "    values = []\n",
    "    trigram_measures = nltk.collocations.TrigramAssocMeasures()\n",
    "    for i in range(len(tokens_list)):\n",
    "        finder = TrigramCollocationFinder.from_words(tokens_list[i])\n",
    "        trigrams = list(finder.ngram_fd.items())\n",
    "        trigrams.sort(key=lambda item: item[-1], reverse=True)\n",
    "        values.append(trigrams)\n",
    "    return values\n",
    "\n",
    "trump_trigrams = get_trigrams(trumpTokens)\n",
    "cc_trigrams = get_trigrams(ccTokens)"
   ]
  },
  {
   "cell_type": "markdown",
   "metadata": {},
   "source": [
    "### Part of Speech Tagging\n",
    "\n",
    "One of the subtasks of word sense disambiguation and sometimes a task that is performed on its own is identifying which part of speech, whether a word is a noun or an adverb for example (Kolalapudi 2016c). This is called Part of Speech Tagging (POS tagging) (Kolalapudi 2016c). POS tagging is another task that to be performed in natural language processing (Kolalapudi 2016c)."
   ]
  },
  {
   "cell_type": "code",
   "execution_count": 23,
   "metadata": {},
   "outputs": [],
   "source": [
    "from nltk import pos_tag\n",
    "\n",
    "def get_pos_tags(tokens_list):\n",
    "    values = []\n",
    "    for i in range(len(tokens_list)):\n",
    "        current_list = tokens_list[i]\n",
    "        values.append(nltk.pos_tag(current_list))\n",
    "    return values\n",
    "\n",
    "cc_pos_tags = get_pos_tags(ccTokens)\n",
    "trump_pos_tags = get_pos_tags(trumpTokens)"
   ]
  },
  {
   "cell_type": "markdown",
   "metadata": {},
   "source": [
    "I then create new dataframes from my newly processed text."
   ]
  },
  {
   "cell_type": "code",
   "execution_count": 24,
   "metadata": {},
   "outputs": [],
   "source": [
    "trump_processed_df = pd.DataFrame({\n",
    "    'sentences': trumpMatrix, \n",
    "    'tokenized_words': trumpTokens,\n",
    "    'bigrams': trump_bigrams,\n",
    "    'trigrams': trump_trigrams,\n",
    "    'pos_tags': trump_pos_tags\n",
    "})"
   ]
  },
  {
   "cell_type": "code",
   "execution_count": 25,
   "metadata": {},
   "outputs": [
    {
     "data": {
      "text/html": [
       "<div>\n",
       "<style scoped>\n",
       "    .dataframe tbody tr th:only-of-type {\n",
       "        vertical-align: middle;\n",
       "    }\n",
       "\n",
       "    .dataframe tbody tr th {\n",
       "        vertical-align: top;\n",
       "    }\n",
       "\n",
       "    .dataframe thead th {\n",
       "        text-align: right;\n",
       "    }\n",
       "</style>\n",
       "<table border=\"1\" class=\"dataframe\">\n",
       "  <thead>\n",
       "    <tr style=\"text-align: right;\">\n",
       "      <th></th>\n",
       "      <th>bigrams</th>\n",
       "      <th>pos_tags</th>\n",
       "      <th>sentences</th>\n",
       "      <th>tokenized_words</th>\n",
       "      <th>trigrams</th>\n",
       "    </tr>\n",
       "  </thead>\n",
       "  <tbody>\n",
       "    <tr>\n",
       "      <th>0</th>\n",
       "      <td>[((Post, Office), 3), ((Mr, Trump), 3), ((atta...</td>\n",
       "      <td>[(President, NNP), (Donald, NNP), (Trump, NNP)...</td>\n",
       "      <td>[President Donald Trump has stepped up his att...</td>\n",
       "      <td>[President, Donald, Trump, stepped, attacks, A...</td>\n",
       "      <td>[((US, Postal, Service), 2), ((US, Post, Offic...</td>\n",
       "    </tr>\n",
       "    <tr>\n",
       "      <th>1</th>\n",
       "      <td>[((social, media), 4), ((visa, applicants), 4)...</td>\n",
       "      <td>[(The, DT), (Trump, NNP), (administration, NN)...</td>\n",
       "      <td>[The Trump administration has said it wants to...</td>\n",
       "      <td>[The, Trump, administration, said, wants, star...</td>\n",
       "      <td>[((New, York, Times), 2), ((Trump, 'in, crude)...</td>\n",
       "    </tr>\n",
       "    <tr>\n",
       "      <th>2</th>\n",
       "      <td>[((North, Korea), 12), ((Korea, talks), 5), ((...</td>\n",
       "      <td>[(Never, RB), (US, NNP), (president, NN), (pre...</td>\n",
       "      <td>[Never before has a US president prepared for ...</td>\n",
       "      <td>[Never, US, president, prepared, summit, impor...</td>\n",
       "      <td>[((Who, going, represent), 3), ((going, repres...</td>\n",
       "    </tr>\n",
       "    <tr>\n",
       "      <th>3</th>\n",
       "      <td>[((The, US), 1), ((US, president), 1), ((presi...</td>\n",
       "      <td>[(The, DT), (US, NNP), (president, NN), (says,...</td>\n",
       "      <td>[The US president says protecting the Korean b...</td>\n",
       "      <td>[The, US, president, says, protecting, Korean,...</td>\n",
       "      <td>[((The, US, president), 1), ((US, president, s...</td>\n",
       "    </tr>\n",
       "    <tr>\n",
       "      <th>4</th>\n",
       "      <td>[((Mr, Trump), 4), ((Trump, International), 3)...</td>\n",
       "      <td>[(Donald, NNP), (Trump, NNP), (attempt, NN), (...</td>\n",
       "      <td>[Donald Trump's attempt to dismiss a lawsuit a...</td>\n",
       "      <td>[Donald, Trump, attempt, dismiss, lawsuit, all...</td>\n",
       "      <td>[((Trump, International, Hotel), 3), ((Lawyers...</td>\n",
       "    </tr>\n",
       "  </tbody>\n",
       "</table>\n",
       "</div>"
      ],
      "text/plain": [
       "                                             bigrams  \\\n",
       "0  [((Post, Office), 3), ((Mr, Trump), 3), ((atta...   \n",
       "1  [((social, media), 4), ((visa, applicants), 4)...   \n",
       "2  [((North, Korea), 12), ((Korea, talks), 5), ((...   \n",
       "3  [((The, US), 1), ((US, president), 1), ((presi...   \n",
       "4  [((Mr, Trump), 4), ((Trump, International), 3)...   \n",
       "\n",
       "                                            pos_tags  \\\n",
       "0  [(President, NNP), (Donald, NNP), (Trump, NNP)...   \n",
       "1  [(The, DT), (Trump, NNP), (administration, NN)...   \n",
       "2  [(Never, RB), (US, NNP), (president, NN), (pre...   \n",
       "3  [(The, DT), (US, NNP), (president, NN), (says,...   \n",
       "4  [(Donald, NNP), (Trump, NNP), (attempt, NN), (...   \n",
       "\n",
       "                                           sentences  \\\n",
       "0  [President Donald Trump has stepped up his att...   \n",
       "1  [The Trump administration has said it wants to...   \n",
       "2  [Never before has a US president prepared for ...   \n",
       "3  [The US president says protecting the Korean b...   \n",
       "4  [Donald Trump's attempt to dismiss a lawsuit a...   \n",
       "\n",
       "                                     tokenized_words  \\\n",
       "0  [President, Donald, Trump, stepped, attacks, A...   \n",
       "1  [The, Trump, administration, said, wants, star...   \n",
       "2  [Never, US, president, prepared, summit, impor...   \n",
       "3  [The, US, president, says, protecting, Korean,...   \n",
       "4  [Donald, Trump, attempt, dismiss, lawsuit, all...   \n",
       "\n",
       "                                            trigrams  \n",
       "0  [((US, Postal, Service), 2), ((US, Post, Offic...  \n",
       "1  [((New, York, Times), 2), ((Trump, 'in, crude)...  \n",
       "2  [((Who, going, represent), 3), ((going, repres...  \n",
       "3  [((The, US, president), 1), ((US, president, s...  \n",
       "4  [((Trump, International, Hotel), 3), ((Lawyers...  "
      ]
     },
     "execution_count": 25,
     "metadata": {},
     "output_type": "execute_result"
    }
   ],
   "source": [
    "trump_processed_df.head()"
   ]
  },
  {
   "cell_type": "code",
   "execution_count": 26,
   "metadata": {},
   "outputs": [],
   "source": [
    "cc_processed_df = pd.DataFrame({\n",
    "    'sentences': ccMatrix, \n",
    "    'tokenized_words': ccTokens,\n",
    "    'bigrams': cc_bigrams,\n",
    "    'trigrams': cc_trigrams,\n",
    "    'pos_tags': cc_pos_tags\n",
    "})"
   ]
  },
  {
   "cell_type": "code",
   "execution_count": 27,
   "metadata": {},
   "outputs": [
    {
     "data": {
      "text/html": [
       "<div>\n",
       "<style scoped>\n",
       "    .dataframe tbody tr th:only-of-type {\n",
       "        vertical-align: middle;\n",
       "    }\n",
       "\n",
       "    .dataframe tbody tr th {\n",
       "        vertical-align: top;\n",
       "    }\n",
       "\n",
       "    .dataframe thead th {\n",
       "        text-align: right;\n",
       "    }\n",
       "</style>\n",
       "<table border=\"1\" class=\"dataframe\">\n",
       "  <thead>\n",
       "    <tr style=\"text-align: right;\">\n",
       "      <th></th>\n",
       "      <th>bigrams</th>\n",
       "      <th>pos_tags</th>\n",
       "      <th>sentences</th>\n",
       "      <th>tokenized_words</th>\n",
       "      <th>trigrams</th>\n",
       "    </tr>\n",
       "  </thead>\n",
       "  <tbody>\n",
       "    <tr>\n",
       "      <th>657</th>\n",
       "      <td>[((away, coal), 4), ((climate, change), 4), ((...</td>\n",
       "      <td>[(The, DT), (UK, NNP), (Canada, NNP), (launche...</td>\n",
       "      <td>[The UK and Canada have launched a global alli...</td>\n",
       "      <td>[The, UK, Canada, launched, global, alliance, ...</td>\n",
       "      <td>[((time, next, major), 2), ((next, major, UN),...</td>\n",
       "    </tr>\n",
       "    <tr>\n",
       "      <th>658</th>\n",
       "      <td>[((food, waste), 9), ((surplus, food), 5), ((B...</td>\n",
       "      <td>[(A, DT), (rising, VBG), (number, NN), (firms,...</td>\n",
       "      <td>[A rising number of firms are finding creative...</td>\n",
       "      <td>[A, rising, number, firms, finding, creative, ...</td>\n",
       "      <td>[((issue, food, waste), 2), ((A, rising, numbe...</td>\n",
       "    </tr>\n",
       "    <tr>\n",
       "      <th>659</th>\n",
       "      <td>[((Meeting, carbon-reduction), 1), ((carbon-re...</td>\n",
       "      <td>[(Meeting, VBG), (carbon-reduction, JJ), (targ...</td>\n",
       "      <td>[Meeting carbon-reduction targets will be more...</td>\n",
       "      <td>[Meeting, carbon-reduction, targets, challengi...</td>\n",
       "      <td>[((Meeting, carbon-reduction, targets), 1), ((...</td>\n",
       "    </tr>\n",
       "    <tr>\n",
       "      <th>660</th>\n",
       "      <td>[((More, hurricanes), 1), ((hurricanes, Rising...</td>\n",
       "      <td>[(More, JJR), (hurricanes, NNS), (Rising, VBG)...</td>\n",
       "      <td>[More hurricanes?, Rising temperatures?, BBC m...</td>\n",
       "      <td>[More, hurricanes, Rising, temperatures, BBC, ...</td>\n",
       "      <td>[((More, hurricanes, Rising), 1), ((hurricanes...</td>\n",
       "    </tr>\n",
       "    <tr>\n",
       "      <th>661</th>\n",
       "      <td>[((UK, US), 1), ((US, scientists), 1), ((scien...</td>\n",
       "      <td>[(UK, NNP), (US, NNP), (scientists, NNS), (lea...</td>\n",
       "      <td>[UK and US scientists will lead a five-year ef...</td>\n",
       "      <td>[UK, US, scientists, lead, five-year, effort, ...</td>\n",
       "      <td>[((UK, US, scientists), 1), ((US, scientists, ...</td>\n",
       "    </tr>\n",
       "  </tbody>\n",
       "</table>\n",
       "</div>"
      ],
      "text/plain": [
       "                                               bigrams  \\\n",
       "657  [((away, coal), 4), ((climate, change), 4), ((...   \n",
       "658  [((food, waste), 9), ((surplus, food), 5), ((B...   \n",
       "659  [((Meeting, carbon-reduction), 1), ((carbon-re...   \n",
       "660  [((More, hurricanes), 1), ((hurricanes, Rising...   \n",
       "661  [((UK, US), 1), ((US, scientists), 1), ((scien...   \n",
       "\n",
       "                                              pos_tags  \\\n",
       "657  [(The, DT), (UK, NNP), (Canada, NNP), (launche...   \n",
       "658  [(A, DT), (rising, VBG), (number, NN), (firms,...   \n",
       "659  [(Meeting, VBG), (carbon-reduction, JJ), (targ...   \n",
       "660  [(More, JJR), (hurricanes, NNS), (Rising, VBG)...   \n",
       "661  [(UK, NNP), (US, NNP), (scientists, NNS), (lea...   \n",
       "\n",
       "                                             sentences  \\\n",
       "657  [The UK and Canada have launched a global alli...   \n",
       "658  [A rising number of firms are finding creative...   \n",
       "659  [Meeting carbon-reduction targets will be more...   \n",
       "660  [More hurricanes?, Rising temperatures?, BBC m...   \n",
       "661  [UK and US scientists will lead a five-year ef...   \n",
       "\n",
       "                                       tokenized_words  \\\n",
       "657  [The, UK, Canada, launched, global, alliance, ...   \n",
       "658  [A, rising, number, firms, finding, creative, ...   \n",
       "659  [Meeting, carbon-reduction, targets, challengi...   \n",
       "660  [More, hurricanes, Rising, temperatures, BBC, ...   \n",
       "661  [UK, US, scientists, lead, five-year, effort, ...   \n",
       "\n",
       "                                              trigrams  \n",
       "657  [((time, next, major), 2), ((next, major, UN),...  \n",
       "658  [((issue, food, waste), 2), ((A, rising, numbe...  \n",
       "659  [((Meeting, carbon-reduction, targets), 1), ((...  \n",
       "660  [((More, hurricanes, Rising), 1), ((hurricanes...  \n",
       "661  [((UK, US, scientists), 1), ((US, scientists, ...  "
      ]
     },
     "execution_count": 27,
     "metadata": {},
     "output_type": "execute_result"
    }
   ],
   "source": [
    "cc_processed_df.tail()"
   ]
  },
  {
   "cell_type": "markdown",
   "metadata": {},
   "source": [
    "Through looking at the bigrams and trigrams in these small snippets of the dataframes printed above and through looking at other entries within the dataset, and applying human intelligence, I find that not all of the bigrams and and most of the trigrams found should **not** be treated as one entitiy. I conclude here that determining whether a n-gram should be treated as one entitiy or not requires more involved analysis, which is out of scope for this coursework. However, I have an inclination that this would be worth looking into for a much larger project. \n",
    "\n",
    "Regarding the POS tags, I immediately see that they are much more useful. \n",
    "\n",
    "### Finding Adjectives and Adverbs\n",
    "\n",
    "Philip Abrams from the BBC's Editorial Policy Unit described the use of adjectives and adverbs as \"dangerous\" in terms of impartiality (pers. comm., November 2017). Obviously some adjectives and adverbs are required to describe a situation, but excessive use of them could suggest the writer being partial and injecting their own opinions. \n",
    "\n",
    "I will write a method counting the POS tags in each article which are either an adjective or an adverb. The default POS tags used by `nltk.pos_tag()` are the Penn Treebank Project tags, and the tags denoting either an adjective or an adverb are 'JJ', 'JJR', 'JJS', 'RB', 'RBR' and 'RBS' (University of Pennsylvania 2003). I have omitted wh-adverbs ('WRB' tag) because they only introduce interrogative sentences or clauses and are not useful in assessing impartiality (University of Pennsylvania 2003; UCL 1998).\n",
    "\n",
    "I extract the relevant tags into their own column within the dataframe. "
   ]
  },
  {
   "cell_type": "code",
   "execution_count": 28,
   "metadata": {},
   "outputs": [],
   "source": [
    "def column_of_adjectives_and_adverbs(df, column, new_column_name):\n",
    "    tags_of_interest = ['JJ', 'JJR', 'JJS', 'RB', 'RBR', 'RBS']\n",
    "    temp_column = []\n",
    "    for d in range(len(df[column])):\n",
    "        pos_tags = df[column].iloc[d]\n",
    "        adj_and_advs = []\n",
    "        for i in range(len(pos_tags)):\n",
    "            word = pos_tags[i][0]\n",
    "            tag = pos_tags[i][1] \n",
    "            if tag in tags_of_interest:\n",
    "                adj_and_advs.append(word)\n",
    "        temp_column.append(adj_and_advs)\n",
    "    df[new_column_name] = temp_column\n",
    "\n",
    "column_of_adjectives_and_adverbs(cc_processed_df, 'pos_tags', 'adj_and_advs')\n",
    "column_of_adjectives_and_adverbs(trump_processed_df, 'pos_tags', 'adj_and_advs')\n"
   ]
  },
  {
   "cell_type": "markdown",
   "metadata": {},
   "source": [
    "I make a new dataframe for holding numerical data and I write a few helper function aid me."
   ]
  },
  {
   "cell_type": "code",
   "execution_count": 29,
   "metadata": {},
   "outputs": [
    {
     "data": {
      "text/html": [
       "<div>\n",
       "<style scoped>\n",
       "    .dataframe tbody tr th:only-of-type {\n",
       "        vertical-align: middle;\n",
       "    }\n",
       "\n",
       "    .dataframe tbody tr th {\n",
       "        vertical-align: top;\n",
       "    }\n",
       "\n",
       "    .dataframe thead th {\n",
       "        text-align: right;\n",
       "    }\n",
       "</style>\n",
       "<table border=\"1\" class=\"dataframe\">\n",
       "  <thead>\n",
       "    <tr style=\"text-align: right;\">\n",
       "      <th></th>\n",
       "      <th>adj_and_advs</th>\n",
       "      <th>total_words</th>\n",
       "      <th>%_adj_adv</th>\n",
       "    </tr>\n",
       "  </thead>\n",
       "  <tbody>\n",
       "    <tr>\n",
       "      <th>0</th>\n",
       "      <td>89</td>\n",
       "      <td>4463</td>\n",
       "      <td>1.994174</td>\n",
       "    </tr>\n",
       "    <tr>\n",
       "      <th>1</th>\n",
       "      <td>15</td>\n",
       "      <td>1484</td>\n",
       "      <td>1.010782</td>\n",
       "    </tr>\n",
       "    <tr>\n",
       "      <th>2</th>\n",
       "      <td>124</td>\n",
       "      <td>5044</td>\n",
       "      <td>2.458366</td>\n",
       "    </tr>\n",
       "    <tr>\n",
       "      <th>3</th>\n",
       "      <td>106</td>\n",
       "      <td>5980</td>\n",
       "      <td>1.772575</td>\n",
       "    </tr>\n",
       "    <tr>\n",
       "      <th>4</th>\n",
       "      <td>38</td>\n",
       "      <td>2794</td>\n",
       "      <td>1.360057</td>\n",
       "    </tr>\n",
       "  </tbody>\n",
       "</table>\n",
       "</div>"
      ],
      "text/plain": [
       "   adj_and_advs  total_words  %_adj_adv\n",
       "0            89         4463   1.994174\n",
       "1            15         1484   1.010782\n",
       "2           124         5044   2.458366\n",
       "3           106         5980   1.772575\n",
       "4            38         2794   1.360057"
      ]
     },
     "execution_count": 29,
     "metadata": {},
     "output_type": "execute_result"
    }
   ],
   "source": [
    "def get_list_size(l):\n",
    "    temp = []\n",
    "    for i in range(len(l)):\n",
    "        temp.append(len(l[i]))\n",
    "    return temp\n",
    "\n",
    "def get_percent(num, out_of):\n",
    "    temp = []\n",
    "    for i in range(len(num)):\n",
    "        temp.append((num[i] / out_of[i]) * 100)\n",
    "    return temp\n",
    "\n",
    "def get_word_count(col):\n",
    "    temp = []\n",
    "    for i in range(len(col)):\n",
    "        temp.append(len(col.iloc[i]))\n",
    "    return temp\n",
    "\n",
    "cc_adj_adv_df = pd.DataFrame({\n",
    "    'total_words': get_word_count(cc['cleanBody']),\n",
    "    'adj_and_advs': get_list_size(cc_processed_df['adj_and_advs'])\n",
    "})\n",
    "\n",
    "trump_adj_adv_df = pd.DataFrame({\n",
    "    'total_words': get_word_count(trump['cleanBody']),\n",
    "    'adj_and_advs': get_list_size(trump_processed_df['adj_and_advs'])\n",
    "})\n",
    "\n",
    "cc_adj_adv_df['%_adj_adv'] = get_percent(cc_adj_adv_df['adj_and_advs'], cc_adj_adv_df['total_words'])\n",
    "trump_adj_adv_df['%_adj_adv'] = get_percent(trump_adj_adv_df['adj_and_advs'], trump_adj_adv_df['total_words'])\n",
    "\n",
    "cc_adj_adv_df.head()"
   ]
  },
  {
   "cell_type": "code",
   "execution_count": 30,
   "metadata": {},
   "outputs": [
    {
     "data": {
      "text/html": [
       "<div>\n",
       "<style scoped>\n",
       "    .dataframe tbody tr th:only-of-type {\n",
       "        vertical-align: middle;\n",
       "    }\n",
       "\n",
       "    .dataframe tbody tr th {\n",
       "        vertical-align: top;\n",
       "    }\n",
       "\n",
       "    .dataframe thead th {\n",
       "        text-align: right;\n",
       "    }\n",
       "</style>\n",
       "<table border=\"1\" class=\"dataframe\">\n",
       "  <thead>\n",
       "    <tr style=\"text-align: right;\">\n",
       "      <th></th>\n",
       "      <th>adj_and_advs</th>\n",
       "      <th>total_words</th>\n",
       "      <th>%_adj_adv</th>\n",
       "    </tr>\n",
       "  </thead>\n",
       "  <tbody>\n",
       "    <tr>\n",
       "      <th>3245</th>\n",
       "      <td>35</td>\n",
       "      <td>2369</td>\n",
       "      <td>1.477417</td>\n",
       "    </tr>\n",
       "    <tr>\n",
       "      <th>3246</th>\n",
       "      <td>24</td>\n",
       "      <td>1758</td>\n",
       "      <td>1.365188</td>\n",
       "    </tr>\n",
       "    <tr>\n",
       "      <th>3247</th>\n",
       "      <td>89</td>\n",
       "      <td>5049</td>\n",
       "      <td>1.762725</td>\n",
       "    </tr>\n",
       "    <tr>\n",
       "      <th>3248</th>\n",
       "      <td>8</td>\n",
       "      <td>374</td>\n",
       "      <td>2.139037</td>\n",
       "    </tr>\n",
       "    <tr>\n",
       "      <th>3249</th>\n",
       "      <td>32</td>\n",
       "      <td>2038</td>\n",
       "      <td>1.570167</td>\n",
       "    </tr>\n",
       "  </tbody>\n",
       "</table>\n",
       "</div>"
      ],
      "text/plain": [
       "      adj_and_advs  total_words  %_adj_adv\n",
       "3245            35         2369   1.477417\n",
       "3246            24         1758   1.365188\n",
       "3247            89         5049   1.762725\n",
       "3248             8          374   2.139037\n",
       "3249            32         2038   1.570167"
      ]
     },
     "execution_count": 30,
     "metadata": {},
     "output_type": "execute_result"
    }
   ],
   "source": [
    "trump_adj_adv_df.tail()"
   ]
  },
  {
   "cell_type": "markdown",
   "metadata": {},
   "source": [
    "Then I find out the mean, median and mode times an adjective or adverb is used within an article. "
   ]
  },
  {
   "cell_type": "code",
   "execution_count": 31,
   "metadata": {},
   "outputs": [
    {
     "name": "stdout",
     "output_type": "stream",
     "text": [
      "Trump\n",
      " Mean: 1.557031183509424\n",
      " Median: 1.5965482159523097\n",
      " Mode: [0.] which occurred [75] times\n",
      " Standard Deviation: 0.5022241675267265\n"
     ]
    }
   ],
   "source": [
    "import numpy as np\n",
    "from scipy import stats\n",
    "\n",
    "def get_stats(column, id_str=\"\"):\n",
    "    mean = np.mean(column)\n",
    "    median = np.median(column)\n",
    "    # With scipy, an array, ModeResult, is returned that has 2 attributes. \n",
    "    # The first attribute, mode, is the number that is the mode of the data set. \n",
    "    # The second attribute, count, is the number of times it occurs in the data set.\n",
    "    mode = stats.mode(column)\n",
    "    sd = np.std(column)\n",
    "    print('{0}\\n Mean: {1}\\n Median: {2}\\n Mode: {3} which occurred {4} times'\n",
    "          .format(id_str, mean, median, mode[0], mode[1]))\n",
    "    print(' Standard Deviation: {}'.format(sd))\n",
    "    return (mean, median, mode[0], sd)\n",
    "    \n",
    "trump_statistics = get_stats(trump_adj_adv_df['%_adj_adv'], 'Trump')"
   ]
  },
  {
   "cell_type": "code",
   "execution_count": 32,
   "metadata": {},
   "outputs": [
    {
     "name": "stdout",
     "output_type": "stream",
     "text": [
      "Climate Change\n",
      " Mean: 1.692892305588969\n",
      " Median: 1.7306652244456464\n",
      " Mode: [1.92307692] which occurred [6] times\n",
      " Standard Deviation: 0.4497248588479718\n"
     ]
    }
   ],
   "source": [
    "cc_statistics = get_stats(cc_adj_adv_df['%_adj_adv'], 'Climate Change')"
   ]
  },
  {
   "cell_type": "code",
   "execution_count": 33,
   "metadata": {},
   "outputs": [
    {
     "data": {
      "text/plain": [
       "0.9624644301183272"
      ]
     },
     "execution_count": 33,
     "metadata": {},
     "output_type": "execute_result"
    }
   ],
   "source": [
    "# correlation\n",
    "cc_adj_adv_df['total_words'].corr(cc_adj_adv_df['adj_and_advs'])"
   ]
  },
  {
   "cell_type": "code",
   "execution_count": 34,
   "metadata": {},
   "outputs": [
    {
     "data": {
      "text/plain": [
       "0.9783117311127919"
      ]
     },
     "execution_count": 34,
     "metadata": {},
     "output_type": "execute_result"
    }
   ],
   "source": [
    "trump_adj_adv_df['total_words'].corr(trump_adj_adv_df['adj_and_advs'])"
   ]
  },
  {
   "cell_type": "markdown",
   "metadata": {},
   "source": [
    "From these raw numbers I can see that articles about Donald Trump contain fewer adjectives and adverbs than Climate Change, however, the Standard Deviation is larger suggesting a bigger variance. Also, the correlation between the number of adjectives and adverbs with the total number of words for Donald Trump is slightly stronger. This is not enough to be conclusive about comparative impartiality but does suggest that further investigation in this area might be useful."
   ]
  },
  {
   "cell_type": "markdown",
   "metadata": {},
   "source": [
    "# Visualization\n",
    "\n",
    "So far there has been a lot of discussion about the data and what it might mean but it might be interesting to visualize the data and see if this reveals anything interesting. \n",
    "\n",
    "Visualizing data can help give a convey the narrative summary of the work to key stakeholders (Dietrich et al. 2015). \n",
    "\n",
    "I will be using a Python data visualization library called MatPlotLib."
   ]
  },
  {
   "cell_type": "code",
   "execution_count": 35,
   "metadata": {},
   "outputs": [],
   "source": [
    "import matplotlib.pyplot as plt"
   ]
  },
  {
   "cell_type": "code",
   "execution_count": 36,
   "metadata": {},
   "outputs": [
    {
     "data": {
      "image/png": "[encoded data removed]",
      "text/plain": [
       "<Figure size 432x288 with 1 Axes>"
      ]
     },
     "metadata": {},
     "output_type": "display_data"
    }
   ],
   "source": [
    "plt.plot(cc.lastPublished, cc_adj_adv_df.total_words)\n",
    "plt.plot(trump.lastPublished, trump_adj_adv_df.total_words)\n",
    "plt.legend(['Climate Change', 'Donald Trump'])\n",
    "plt.title('Number of Words Published')\n",
    "plt.ylabel('Number of Words')\n",
    "plt.xlabel('Date')\n",
    "plt.show()"
   ]
  },
  {
   "cell_type": "markdown",
   "metadata": {},
   "source": [
    "Since there are so many Donald Trump articles compared to Climate Change, this time series isn't very useful. There also looks like there might be some outliers, some very large article sizes. The scatter plot below also suggests the same thing."
   ]
  },
  {
   "cell_type": "code",
   "execution_count": 37,
   "metadata": {},
   "outputs": [
    {
     "data": {
      "image/png": "[encoded data removed]",
      "text/plain": [
       "<Figure size 432x288 with 1 Axes>"
      ]
     },
     "metadata": {},
     "output_type": "display_data"
    }
   ],
   "source": [
    "plt.scatter(trump_adj_adv_df.total_words, trump_adj_adv_df.adj_and_advs, 5)\n",
    "plt.title('Adjectives and Adverbs within article')\n",
    "plt.legend(['Trump'])\n",
    "plt.show()"
   ]
  },
  {
   "cell_type": "markdown",
   "metadata": {},
   "source": [
    "The scatterplot below for Climate Change looks more like what we might expect. "
   ]
  },
  {
   "cell_type": "code",
   "execution_count": 38,
   "metadata": {},
   "outputs": [
    {
     "data": {
      "image/png": "[encoded data removed]",
      "text/plain": [
       "<Figure size 432x288 with 1 Axes>"
      ]
     },
     "metadata": {},
     "output_type": "display_data"
    }
   ],
   "source": [
    "plt.scatter(cc_adj_adv_df.total_words, cc_adj_adv_df.adj_and_advs, 5)\n",
    "plt.title('Adjectives and Adverbs within article')\n",
    "plt.legend(['Climate Change'])\n",
    "plt.show()"
   ]
  },
  {
   "cell_type": "markdown",
   "metadata": {},
   "source": [
    "I have found that the data, being purely text based, does not naturally lend itself well to being shown graphically. I am not sure what value these visualizations give in terms of extra understanding. However, visualising the data in this way has revealed that for more conclusive findings as part of a more in depth study, the qualitity of the data must be inspected very throughly and outliers investigated. "
   ]
  },
  {
   "cell_type": "markdown",
   "metadata": {},
   "source": [
    "# Clustering\n",
    "\n",
    "Currently, we still have two large datasets of BBC News articles; one tagged with the topic 'Donald Trump' and the other with 'Climate Change'. All articles tagged with these topics are mostly about Donald Trump or Climage Change, they will also touch on different areas also, and have different newsworthy angles and focuses. \n",
    "\n",
    "I decided that it would be good to investigate where there are any specific angles that are covered regularly. I will refer to these as 'themes' hereafter. It would interesting to see if there are any recurring themes in articles about these topics. I am asking: is something very specific written about very often under these given topics? If so, this _might_ suggest bias. \n",
    "\n",
    "Each dataset could be divided into groups, or themes, based on some measure of similarity that might be present. There is likely to be a difference in the common attributes of the Donald Trump articles compared with the Climate Change articles. All articles that represent a particular 'theme' within each dataset should be clustered into one group so they might then be compared and analysed for evidence impartiality. \n",
    "\n",
    "This is a clustering problem. Clustering is defined as grouping objects which are similar to each other and dissimilar to the objects in the other groupings (Bramer 2007). The objective in clusering is to maximise intracluster similarity and minimize intercluster similarity (Kolalapudi 2016a).\n",
    "\n",
    "## Feature Extraction\n",
    "\n",
    "The first step is representing text data using numeric attributes called features and the process of extracting them from the text is called feature extraction (Kolalapudi 2016a). There are various methods by which feature extraction can be performed, but the methods I shall be concerned with here are called 'Term Frequency' and 'TF-IDF'. \n",
    "\n",
    "### Term Frequency Representation using the 'Bag of Words' model.\n",
    "Steps to performing Term Frequency\n",
    "1. Create a list of all possible words that could appear any article. The list is of length `n`, where `n` is the number of words in the text. \n",
    "2. A tuple is created for each article where each word in the list of all words is represented by the number of times it occurred in the text. \n",
    "For example,\n",
    "if all the possible words are `(these, are, all, the, possible, words, that, could, appear)` then the sentence `all these words are possible` would produce the tuple `(1, 1, 1, 0, 1, 1, 0, 0, 0)` which is called the Term Frequency Representation.\n",
    "\n",
    "It is important to note all information regarding the order of the words in the text is lost, this is why this model is called 'Bag of Words' because it is likened to putting all the words in a bag (Kolalapudi 2016a). This is suitable for our initial experiment in discovering themes because we will be clustering based on the words themselves not the order they appeared in. \n",
    "\n",
    "### Term Freqency - Inverse Document Frequency\n",
    "Term Freqency - Inverse Document Frequency (TF-IDF) enhances the Term Frequency Representation by recognising that some words are more important than others (Kolalapudi 2016a). TF-IDF works on the widely held supposition that a seldomly used word found in a sentence generally has more of an impact on the meaning of that sentence than other words (Kolalapudi 2016a). By taking this into account, I would like to a way of 'weighting' each word in my features to take into account its rarity. TF-IDF is a commonly used way of doing this. \n",
    "\n",
    "The method of finding the TF-IDF is to take the corpus, which is the entire dataset of articles, and the tuples of word frequencies, then weight each word's frequency by the inverse of the number of articles the word is present in (Kolalapudi 2016a). The term frequency is multiplied by the inverse of the document frequency which is why this method is called 'Term Freqency - Inverse Document Frequency' (Kolalapudi 2016a). "
   ]
  },
  {
   "cell_type": "markdown",
   "metadata": {},
   "source": [
    "### Getting the Corpus\n",
    "\n",
    "I start the process of feature extraction by getting the corpuses of each dataset. I am using the `tokenized_words` to do this because it is my cleanest respresentation of the data so far. "
   ]
  },
  {
   "cell_type": "code",
   "execution_count": 39,
   "metadata": {},
   "outputs": [],
   "source": [
    "def get_corpus(df, column):\n",
    "    corpus = []\n",
    "    for i in range (len(df)):\n",
    "        text = df[column].iloc[i]\n",
    "        corpus.append(' '.join(text))\n",
    "    return corpus\n",
    "\n",
    "cc_corpus = get_corpus(cc_processed_df, 'tokenized_words')\n",
    "trump_corpus = get_corpus(trump_processed_df, 'tokenized_words')"
   ]
  },
  {
   "cell_type": "markdown",
   "metadata": {},
   "source": [
    "### Getting the TF-IDF\n",
    "\n",
    "I am using a popular Data Science library, specifically for machine learning problems called SciKit Learn. I am using  built-in methods for creating the TF-IDF."
   ]
  },
  {
   "cell_type": "code",
   "execution_count": 40,
   "metadata": {},
   "outputs": [],
   "source": [
    "from sklearn.feature_extraction.text import TfidfVectorizer"
   ]
  },
  {
   "cell_type": "code",
   "execution_count": 41,
   "metadata": {},
   "outputs": [
    {
     "data": {
      "text/plain": [
       "<3250x36560 sparse matrix of type '<class 'numpy.float64'>'\n",
       "\twith 697087 stored elements in Compressed Sparse Row format>"
      ]
     },
     "execution_count": 41,
     "metadata": {},
     "output_type": "execute_result"
    }
   ],
   "source": [
    "trump_vec = TfidfVectorizer()\n",
    "trump_tfid = trump_vec.fit_transform(trump_corpus)\n",
    "trump_tfid"
   ]
  },
  {
   "cell_type": "code",
   "execution_count": 42,
   "metadata": {},
   "outputs": [
    {
     "data": {
      "text/plain": [
       "<662x12800 sparse matrix of type '<class 'numpy.float64'>'\n",
       "\twith 146686 stored elements in Compressed Sparse Row format>"
      ]
     },
     "execution_count": 42,
     "metadata": {},
     "output_type": "execute_result"
    }
   ],
   "source": [
    "cc_vec = TfidfVectorizer()\n",
    "cc_tfid = cc_vec.fit_transform(cc_corpus)\n",
    "cc_tfid"
   ]
  },
  {
   "cell_type": "markdown",
   "metadata": {},
   "source": [
    "## K-Means Clustering\n",
    "\n",
    "K-means clustering is described by Bramner (2007) as an 'exclusive clustering algorithm' because it assigns each object to only one of a set of clusters. This method was chosen because I am looking for distinct overarching themes that may be present within the news articles, I am not looking to put them into a hierarchy for example.\n",
    "\n",
    "Steps to performing k-means clustering (Bramner 2007).\n",
    "1. Decide on a value of `k` which is the number of clusters that should be found. \n",
    "2. Select the `k` objects in an arbitary fashion, these should be the inital set of `k` centroids. \n",
    "3. Each object is assigned one by one to the cluster which has the closet centroid. \n",
    "4. Now, it is very likely that the original centroids will no longer be the true centroids of each clusters, therefore a recalculation must be made and the process is repeated. \n",
    "5. Repeat steps 3. and 4. until the centroids do not change and convergence has been reached. \n",
    "\n",
    "What SciKit Learn referrs to as the `inertia` is what is usually referred to as the 'objective function': the sum of the squared distances of objects to their closest cluster centre (SciKit Learn 2017; Bramner 2007). The objective function should decrease with each iteration until the best clustering is found. \n",
    "\n",
    "Below the number of clusters is set to 3 and the maximum number of iterations is set to 99. I have chosen 3 from running this experiment several times and I find it to be a good number. Thankfully, the number of iterations before convergence has never gotten close to 99 in all the times I have run this experiment, but it is important to set the maximum number of iterations anyway (Bramner 2007). This is because although it can be proved that k-means clustering will always terminate, it does not always find the best set of clusters, corresponding the minimising the value of the objective function (Bramner 2007). \n",
    "\n",
    "The initial selection of centroids can too significantly affect the result (Bramner 2007). To overcome this, the algorithm can be run several times for a given value of `k`, each time with a different choice of inital `k` centroids (Bramner 2007). The set of clusters with the smallest value of the objective function is then chosen (Bramner 2007). The `n_init` value set is the 'number of time the k-means algorithm will be run with different centroid seeds' (SciKit Learn 2017). The final results from SciKit Learn are the best output of the `n_init` consecutive runs in terms of intertia (SciKit Learn 2017). From running this experiment several times and tweaking the numbers I have found that 4 is a good number of iterations to use. "
   ]
  },
  {
   "cell_type": "code",
   "execution_count": 43,
   "metadata": {},
   "outputs": [
    {
     "data": {
      "text/plain": [
       "KMeans(algorithm='auto', copy_x=True, init='k-means++', max_iter=99,\n",
       "    n_clusters=3, n_init=4, n_jobs=1, precompute_distances='auto',\n",
       "    random_state=None, tol=0.0001, verbose=False)"
      ]
     },
     "execution_count": 43,
     "metadata": {},
     "output_type": "execute_result"
    }
   ],
   "source": [
    "from sklearn.cluster import KMeans\n",
    "\n",
    "cc_km = KMeans(n_clusters = 3, init = 'k-means++', max_iter = 99, n_init = 4, verbose = False )\n",
    "\n",
    "cc_km.fit(cc_tfid)"
   ]
  },
  {
   "cell_type": "code",
   "execution_count": 44,
   "metadata": {},
   "outputs": [
    {
     "data": {
      "text/plain": [
       "<662x12800 sparse matrix of type '<class 'numpy.float64'>'\n",
       "\twith 146686 stored elements in Compressed Sparse Row format>"
      ]
     },
     "execution_count": 44,
     "metadata": {},
     "output_type": "execute_result"
    }
   ],
   "source": [
    "cc_tfid"
   ]
  },
  {
   "cell_type": "markdown",
   "metadata": {},
   "source": [
    "I made a simple method to print some of the findings because the method's output, when set to verbose, is too verbose.\n",
    "\n",
    "The labels show that there are 3 clusters (but we knew that because we set it) and it also shows the number of articles which have been assigned to each cluster in the second array."
   ]
  },
  {
   "cell_type": "code",
   "execution_count": 45,
   "metadata": {},
   "outputs": [
    {
     "name": "stdout",
     "output_type": "stream",
     "text": [
      "objective funtion: 597.2795467079283\n",
      " coordinates of cluster centres:\n",
      " [[0.         0.01322671 0.         ... 0.         0.         0.        ]\n",
      " [0.00096065 0.00393288 0.         ... 0.         0.         0.        ]\n",
      " [0.00176871 0.00776792 0.0014874  ... 0.00017597 0.00033896 0.00018543]]\n",
      "labels: \n",
      "(array([0, 1, 2], dtype=int32), array([ 54, 170, 438]))\n"
     ]
    }
   ],
   "source": [
    "def print_output(km): \n",
    "    string = 'objective funtion: {0}\\n coordinates of cluster centres:\\n {1}'.format(km.inertia_, km.cluster_centers_)\n",
    "    labels = 'labels: \\n{}'.format(np.unique(km.labels_ , return_counts=True))\n",
    "    print(string)\n",
    "    print(labels)\n",
    "    \n",
    "print_output(cc_km)"
   ]
  },
  {
   "cell_type": "code",
   "execution_count": 46,
   "metadata": {},
   "outputs": [
    {
     "data": {
      "text/plain": [
       "KMeans(algorithm='auto', copy_x=True, init='k-means++', max_iter=99,\n",
       "    n_clusters=3, n_init=4, n_jobs=1, precompute_distances='auto',\n",
       "    random_state=None, tol=0.0001, verbose=False)"
      ]
     },
     "execution_count": 46,
     "metadata": {},
     "output_type": "execute_result"
    }
   ],
   "source": [
    "trump_km = KMeans(n_clusters = 3, init = 'k-means++', max_iter = 99, n_init = 4, verbose = False )\n",
    "trump_km.fit(trump_tfid)"
   ]
  },
  {
   "cell_type": "code",
   "execution_count": 47,
   "metadata": {},
   "outputs": [
    {
     "name": "stdout",
     "output_type": "stream",
     "text": [
      "objective funtion: 3024.2096405389834\n",
      " coordinates of cluster centres:\n",
      " [[1.75371635e-03 7.70025137e-03 1.60166879e-05 ... 8.14353804e-05\n",
      "  2.96778858e-05 2.96778858e-05]\n",
      " [7.63049930e-04 5.70589306e-03 0.00000000e+00 ... 1.10994922e-04\n",
      "  0.00000000e+00 0.00000000e+00]\n",
      " [8.46861718e-04 2.12396846e-03 0.00000000e+00 ... 0.00000000e+00\n",
      "  0.00000000e+00 0.00000000e+00]]\n",
      "labels: \n",
      "(array([0, 1, 2], dtype=int32), array([2322,  544,  384]))\n"
     ]
    }
   ],
   "source": [
    "print_output(trump_km)"
   ]
  },
  {
   "cell_type": "markdown",
   "metadata": {},
   "source": [
    "The scatterplot below shows the positions of the centroids of the clusters. Projecting all points on the first two dimensions of the TF-IDF vector space produced a useless plot (Iliev 2018), therefore I have not included them."
   ]
  },
  {
   "cell_type": "code",
   "execution_count": 48,
   "metadata": {},
   "outputs": [
    {
     "data": {
      "image/png": "[encoded data removed]",
      "text/plain": [
       "<Figure size 432x288 with 1 Axes>"
      ]
     },
     "metadata": {},
     "output_type": "display_data"
    }
   ],
   "source": [
    "centroids_cc = cc_km.cluster_centers_\n",
    "centroids_t = trump_km.cluster_centers_\n",
    "plt.scatter(centroids_cc[:, 0], centroids_cc[:, 1], c='red', s=10)\n",
    "plt.scatter(centroids_t[:, 0], centroids_t[:, 1], c='purple', s=10)\n",
    "plt.legend(['Climate Change', 'Trump'])\n",
    "plt.show()"
   ]
  },
  {
   "cell_type": "markdown",
   "metadata": {},
   "source": [
    "### Identifying the Themes\n",
    "\n",
    "The method below creates a dictionary for each corpus whereby the keys are the cluster numbers and the values are the aggregated text across all the articles that are within that cluster."
   ]
  },
  {
   "cell_type": "code",
   "execution_count": 49,
   "metadata": {},
   "outputs": [],
   "source": [
    "def dictionary_from_corpus(km, corpus):\n",
    "    text = {}\n",
    "    for i, cluster in enumerate(km.labels_):\n",
    "        current = corpus[i]\n",
    "        if cluster not in text.keys():\n",
    "            text[cluster] = current\n",
    "        else:\n",
    "            text[cluster] += current\n",
    "    return text\n",
    "\n",
    "cc_cluster_dict = dictionary_from_corpus(cc_km, cc_corpus)\n",
    "trump_cluster_dict = dictionary_from_corpus(trump_km, trump_corpus)"
   ]
  },
  {
   "cell_type": "markdown",
   "metadata": {},
   "source": [
    "The next task is to find the most frequent words within that cluster. \n",
    "\n",
    "Through running and tweaking this experiment, I found it necessary add 'bbc' to the set of `stop_words` because it was appearing too often and is not helpful in identifying themes in BBC News articles. By the end of this method, the words have been tokenized, re-joined to find the TF-IDF and then tokenized again within this method. It is likely because of this that something odd was happening: 'n't' got treated as a word and was appearing often; therefore I also added this to the `stop_words`. \n",
    "\n",
    "`freq = FreqDist(word_sent)` calculates the frequency distribution of the words and `keywords[cluster] = nlargest(99, freq, key=freq.get)` finds the most important 100 words in that cluster (set to 99 because Python is zero-based). "
   ]
  },
  {
   "cell_type": "code",
   "execution_count": 50,
   "metadata": {},
   "outputs": [],
   "source": [
    "from nltk import FreqDist\n",
    "from heapq import nlargest\n",
    "\n",
    "stop_words.add('bbc')\n",
    "stop_words.add(\"n't\")\n",
    "\n",
    "def get_freq_dist(dict):\n",
    "    keywords = {}\n",
    "    counts = {}\n",
    "    for cluster in range(len(dict)):\n",
    "        word_sent = word_tokenize(dict[cluster].lower())\n",
    "        word_sent = [word for word in word_sent if word not in stop_words]\n",
    "        freq = FreqDist(word_sent)\n",
    "        keywords[cluster] = nlargest(99, freq, key=freq.get)\n",
    "        counts[cluster] = freq\n",
    "    return (keywords, counts)\n",
    "\n",
    "cc_word_counts = get_freq_dist(cc_cluster_dict)\n",
    "trump_word_counts = get_freq_dist(trump_cluster_dict)\n"
   ]
  },
  {
   "cell_type": "markdown",
   "metadata": {},
   "source": [
    "The keywords that are unique to each cluster are found, and the top 12 for each corpus are shown below. "
   ]
  },
  {
   "cell_type": "code",
   "execution_count": 51,
   "metadata": {},
   "outputs": [],
   "source": [
    "def get_unique_keys(data, num_of_unique_keys=10):\n",
    "    keywords = data[0]\n",
    "    counts = data[1]\n",
    "    unique_keys = {}\n",
    "    length = len(counts)\n",
    "    for cluster in range(length):\n",
    "        other_clusters = list(set(range(length))-set([cluster]))\n",
    "        keys_other_clusters = set(keywords[other_clusters[0]]).union(set(keywords[other_clusters[1]]))\n",
    "        unique=set(keywords[cluster])-keys_other_clusters\n",
    "        unique_keys[cluster]=nlargest(num_of_unique_keys,unique,key=counts[cluster].get)\n",
    "    return unique_keys\n",
    "\n",
    "cc_12_unique_keys = get_unique_keys(cc_word_counts, 12)\n",
    "trump_12_unique_keys = get_unique_keys(trump_word_counts, 12)\n"
   ]
  },
  {
   "cell_type": "code",
   "execution_count": 52,
   "metadata": {},
   "outputs": [
    {
     "name": "stdout",
     "output_type": "stream",
     "text": [
      "{0: ['tax', 'bill', 'years', 'back', 'going', 'office', 'republicans', 'immigration', \"'re\", 'twitter', 'think', 'party'], 1: ['north', 'korea', 'nuclear', 'china', 'trade', 'deal', 'iran', 'ban', 'countries', 'climate', 'agreement', 'israel'], 2: ['russian', 'comey', 'fbi', 'investigation', 'intelligence', 'flynn', 'director', 'clinton', 'mueller', 'putin', 'team', 'committee']}\n"
     ]
    }
   ],
   "source": [
    "print(trump_12_unique_keys)"
   ]
  },
  {
   "cell_type": "code",
   "execution_count": 53,
   "metadata": {},
   "outputs": [
    {
     "name": "stdout",
     "output_type": "stream",
     "text": [
      "{0: ['scotland', 'scottish', 'targets', 'plan', 'target', 'committee', 'wales', 'action', 'transport', 'reduce', 'ministers', 'electricity'], 1: ['trump', 'president', 'deal', 'accord', 'coal', 'china', 'donald', 'decision', 'administration', 'house', 'white', 'state'], 2: ['ice', 'water', 'study', 'weather', 'sea', 'co2', 'around', 'air', 'record', 'earth', 'dr', 'data']}\n"
     ]
    }
   ],
   "source": [
    "print(cc_12_unique_keys)"
   ]
  },
  {
   "cell_type": "markdown",
   "metadata": {},
   "source": [
    "I have applied human intelligence to the outcome of this exercise. I have concluded that the Donald Trump themes are \n",
    "0. US Politics\n",
    "1. US Foreign Affairs\n",
    "2. Russia\n",
    "\n",
    "Personally, I am not suprised by these and nothing particularly unexpected has been revealed. \n",
    "\n",
    "Applying the same logic to the Climate Change themes I deduce that they are\n",
    "0. UK Nations\n",
    "1. Donald Trump\n",
    "2. Global Warming\n",
    "\n",
    "One of those overarching themes in the Climate Change corpus is certainly very interesting because it seems to be about Donald Trump! This might suggest that in further investigation regarding the impartiality of a topic a much broader corpus of articles must be considered since news under other topics can also be very informing."
   ]
  },
  {
   "cell_type": "markdown",
   "metadata": {},
   "source": [
    "# Classification\n",
    "\n",
    "The original datasets included a one sentence summary to accompany every article. Each summary is extremely austere compared to the longer, hopefully more expository article. Comparing the two _might_ suggest a measure of impartiality: has the full article been embellished with bias? Or has there been bias inflicted in regard to deciding what information to leave out of the summary? As an inital investigation into this hypothesis, Each summary will be classified against the themes found above. Similar numbers of summaries should be found in each theme cluster as the articles themselves if the summaries are good, no? Like with all other aspects of this coursework, it is unlikely to be conclusive but may prompt ideas for futher investigation. \n",
    "\n",
    "Wanting to classify an article into a set of existing themes is a very typical classification problem (Kolalapudi 2016b). The classification exercise performed here will make use of the results of the clustering problem above. \n",
    "\n",
    "## K-Nearest Neighbours\n",
    "\n",
    "From the clustering experiment above, the full articles are now grouped into different themes and can be represented as points in an n-dimensional space (Kolalapudi 2016b). To classify one of the accompnaying summaries, that summary can also be represented using the TF-IDF representation as a tuple of `n` numbers and can be represented by another point in this n-dimensional space (Kolalapudi 2016b). \n",
    "\n",
    "The K-Nearest Neighbors algorithm finds the K articles that are the nearest to the summary being classified (Kolalapudi 2016b). Depending on which cluster of articles the majority of the nearest neighbors of the summary belong to, the summary being classified is assigned to that corresponding cluster (Kolalapudi 2016b). \n",
    "\n",
    "Conveniently, the training phase for this experiment has already been carried out. The training was representing all the articles as points in an n-dimensional space. The test step takes a new instance, finds the K-Nearest Neighbors, and assigns the article to the cluster where most of its nearest neighbors belong (Kolalapudi 2016b).\n",
    "\n",
    "I am using the SciKit Learn framework again to carry out this exercise. The number of neighbours is set by default to be five which means that the test instance will be classified based on only the closest five nearest neighbours. After running the experiment several times and tweaking the `n_neighbors` attribute, I have decided that 15 is a good number for this exercise."
   ]
  },
  {
   "cell_type": "code",
   "execution_count": 54,
   "metadata": {},
   "outputs": [
    {
     "name": "stdout",
     "output_type": "stream",
     "text": [
      "Original Clusters\n",
      "{0: 2322, 1: 544, 2: 384}\n",
      "{0: 54, 1: 170, 2: 438}\n",
      "Classification of Summaries\n",
      "{0: 2592, 1: 409, 2: 249}\n",
      "{0: 48, 1: 260, 2: 354}\n"
     ]
    }
   ],
   "source": [
    "from sklearn.neighbors import KNeighborsClassifier\n",
    "\n",
    "cc_classifier = KNeighborsClassifier(n_neighbors=70)\n",
    "cc_classifier.fit(cc_tfid, cc_km.labels_)\n",
    "\n",
    "cc_test = cc_vec.transform(cc['summary'])\n",
    "cc_predictions = cc_classifier.predict(cc_test).tolist()\n",
    "\n",
    "trump_classifier = KNeighborsClassifier(n_neighbors=15)\n",
    "trump_classifier.fit(trump_tfid, trump_km.labels_)\n",
    "\n",
    "trump_test = trump_vec.transform(trump['summary'])\n",
    "trump_predictions = trump_classifier.predict(trump_test).tolist()\n",
    "\n",
    "def total_of_each_classification(ls):\n",
    "    dict = {0: 0, 1: 0, 2: 0}\n",
    "    for csn in ls:\n",
    "        dict[csn] += 1\n",
    "    return dict\n",
    "\n",
    "def totals_in_original_clusters(km):\n",
    "    l = np.unique(km.labels_ , return_counts=True)[1].tolist()\n",
    "    dict = {0: l[0], 1: l[1], 2: l[2]}\n",
    "    return dict\n",
    "\n",
    "trump_clusters = totals_in_original_clusters(trump_km)\n",
    "trump_classifications = total_of_each_classification(trump_predictions)\n",
    "\n",
    "cc_clusters = totals_in_original_clusters(cc_km)\n",
    "cc_classifications = total_of_each_classification(cc_predictions)\n",
    "\n",
    "print('Original Clusters')\n",
    "print(trump_clusters)\n",
    "print(cc_clusters)\n",
    "\n",
    "print('Classification of Summaries')\n",
    "print(trump_classifications)\n",
    "print(cc_classifications)\n"
   ]
  },
  {
   "cell_type": "code",
   "execution_count": 55,
   "metadata": {},
   "outputs": [
    {
     "data": {
      "image/png": "[encoded data removed]",
      "text/plain": [
       "<Figure size 432x288 with 1 Axes>"
      ]
     },
     "metadata": {},
     "output_type": "display_data"
    }
   ],
   "source": [
    "plt.bar(range(3), list(trump_clusters.values()), width=0.5, color='c', align='edge')\n",
    "plt.xticks(range(3), list(trump_clusters.keys()))\n",
    "plt.bar(range(3), list(trump_classifications.values()), width=0.5, color='r', align='center')\n",
    "plt.legend(['Cluster', 'Classification'])\n",
    "plt.title('Donald Trump')\n",
    "plt.ylabel('Items')\n",
    "plt.xlabel('Theme Grouping')\n",
    "plt.show()"
   ]
  },
  {
   "cell_type": "code",
   "execution_count": 56,
   "metadata": {},
   "outputs": [
    {
     "data": {
      "image/png": "[encoded data removed]",
      "text/plain": [
       "<Figure size 432x288 with 1 Axes>"
      ]
     },
     "metadata": {},
     "output_type": "display_data"
    }
   ],
   "source": [
    "plt.bar(range(3), list(cc_clusters.values()), width=0.5, color='g', align='edge')\n",
    "plt.xticks(range(3), list(cc_clusters.keys()))\n",
    "plt.bar(range(3), list(cc_classifications.values()), width=0.5, color='y', align='center')\n",
    "plt.legend(['Cluster', 'Classification'])\n",
    "plt.title('Climate Change')\n",
    "plt.ylabel('Items')\n",
    "plt.xlabel('Theme Grouping')\n",
    "plt.show()"
   ]
  },
  {
   "cell_type": "markdown",
   "metadata": {},
   "source": [
    "The number of articles clustered within each theme does not appear to be wildly different from the numbers the classification assigned summaries to. This was an interesting initial investigation, however, text from the summary in the original dataset was in a completely different format to the original article bodies, because they were plain text and therefore did not undergo the same process of data cleaning. Additionally, the stopwords were not removed from the summaries which may have had some effect on the outcome."
   ]
  },
  {
   "cell_type": "markdown",
   "metadata": {},
   "source": [
    "# Conclusions\n",
    "\n",
    "# Recommendations\n",
    "\n",
    "Much of what has been carried out here is not very efficient and would not be suitable for big data. During the course of finding the themes, the text was initally tokenized as part of the data cleaning, re-joined to find the TF-IDF which takes string inputs, and then tokenized again to find the top 100 words. This is what likely lead to 'n't' being treated as a word. Clearly, this isn't efficient and it also lead to bizarre behaviour, which thankfully was caught. In addition to this, nearly all methods involved looping over the large datasets. Running all the methods involves doing so multiple times. A much more efficient workflow must be devised with the complexity of each algorithm carefully considered and could ultilize features of NumPy to help. \n",
    "\n",
    "Expertise of a linguist to help design meaningful data experiments. \n",
    "\n",
    "I would have liked to have done a seniment analysis but I didn't have access to a suitable training set. I would, ideally, like a wide variety of news readers to read articles and categorize them as partial or impartial. I did not have access to a way of crowdsourcing a large set. \n"
   ]
  },
  {
   "cell_type": "markdown",
   "metadata": {},
   "source": [
    "# References\n",
    "\n",
    "Abrams, P. (2017) _Personal communication about BBC editorial policy and impartiality in news_ [Personal communication] November 2017 <br />\n",
    "Aggarwal, C. and Zhai, C. (2012) Introduction to Text Mining in Aggarwal, C. and Zhai, C. (editors) _Mining Text Data_ Springer. http://library.books24x7.com.brad.idm.oclc.org/assetviewer.aspx?bookid=54151 Accessed 17<sup>th</sup> June 2018. <br />\n",
    "BBC (2010) Section 4: Impartiality. in BBC _Editorial Guidelines_ London: BBC  http://downloads.bbc.co.uk/guidelines/editorialguidelines/pdfs/Section_04_Impartiality.pdf. Accessed 20<sup>th</sup> May 2018. <br />\n",
    "BBC (2018) _Our Values_ http://www.bbc.co.uk/careers/why-join-us/values. Accessed 17<sup>th</sup> June 2018. <br />\n",
    "BBC News (2017a) _Trump to BBC correspondent Jon Sopel: Here's another beauty_ https://www.bbc.co.uk/news/av/world-us-canada-38999996/trump-to-bbc-correspondent-jon-sopel-here-s-another-beauty Accessed 17<sup>th</sup> June 2018 <br />\n",
    "BBC News (2017b) _White House bans certain news media from briefing_ https://www.bbc.co.uk/news/world-us-canada-39085235 Accessed 17<sup>th</sup> June 2018 <br /> \n",
    "BBC Trust (2017) _Charter and Agreement_ http://www.bbc.co.uk/bbctrust/governance/regulatory_framework/charter_agreement.html. Accessed 17<sup>th</sup> June 2018 <br />\n",
    "Bramer, M. (2007) _Principles of Data Mining_. UK: Springer Science<br />\n",
    "Dietrich, D., Heller, B. and Yang, B. (2015) _Data science and big data analytics : discovering, analyzing, visualizing and presenting data_. Indianapolis: John Wiley & Sons http://library.books24x7.com.brad.idm.oclc.org/assetviewer.aspx?bkid=72724&destid=1084#1084. Accessed 17<sup>th</sup> June 2018 <br />\n",
    "Iliev, H. (2018) _Visualize Sparse Input from SKlearn Kmeans with MatplotLib_ https://stackoverflow.com/questions/50898910/visualize-sparse-input-from-sklearn-kmeans-with-matplotlib/50900411#50900411. Accessed 17<sup>th</sup> June 2018 <br />\n",
    "Kolalapudi, S. (2016a) _Understanding the Clustering Workflow_ [video]. https://app.pluralsight.com/library/courses/python-natural-language-processing/table-of-contents. Accessed 29<sup>th</sup> May 2018. <br />\n",
    "Kolalapudi, S. (2016b) _Understanding the Classification Workflow_ [video]. https://app.pluralsight.com/library/courses/python-natural-language-processing/table-of-contents. Accessed 29<sup>th</sup> May 2018. <br />\n",
    "Kolalapudi, S. (2016c) _Stemming and POS Tagging_ [video]. https://app.pluralsight.com/library/courses/python-natural-language-processing/table-of-contents. Accessed 29<sup>th</sup> May 2018. <br />\n",
    "NLTK (2016) _Natural Language Toolkit_ https://www.nltk.org/ Accessed 17<sup>th</sup> June 2018 <br />\n",
    "Pandas (2018) _Python Data Analysis Library_ https://pandas.pydata.org/ Accessed 17<sup>th</sup> June 2018 <br />\n",
    "SciKit Learn (2017) _sklearn.cluster.KMeans_. SciKit Learn Documentation. http://scikit-learn.org/stable/modules/generated/sklearn.cluster.KMeans.html. Accessed 15<sup>th</sup> June 2018. <br />\n",
    "UCL (1998) _Wh- Adverbs_ https://www.ucl.ac.uk/internet-grammar/adverbs/wh.htm Accessed 17<sup>th</sup> June 2018 <br />\n",
    "University of Pennsylvania (2003) _Alphabetical list of part-of-speech tags used in the Penn Treebank Project_ http://www.ling.upenn.edu/courses/Fall_2003/ling001/penn_treebank_pos.html. Accessed 16<sup>th</sup> June 2018 <br />\n",
    "Varone, M. (2016) _Natural language processing and text mining_ https://www.expertsystem.com/natural-language-processing-and-text-mining/ Accessed 17<sup>th</sup> June 2018 <br />\n",
    "Warburton, C., Hickman, L., Happer, C. and Jordan, D. (2018) _Why is Climate Change so Hard for News?_ [Seminar] BBC Salford Quays "
   ]
  }
 ],
 "metadata": {
  "kernelspec": {
   "display_name": "Python 3",
   "language": "python",
   "name": "python3"
  },
  "language_info": {
   "codemirror_mode": {
    "name": "ipython",
    "version": 3
   },
   "file_extension": ".py",
   "mimetype": "text/x-python",
   "name": "python",
   "nbconvert_exporter": "python",
   "pygments_lexer": "ipython3",
   "version": "3.6.5"
  }
 },
 "nbformat": 4,
 "nbformat_minor": 2
}
